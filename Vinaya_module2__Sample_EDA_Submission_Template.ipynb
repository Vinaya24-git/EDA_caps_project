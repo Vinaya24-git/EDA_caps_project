{
  "nbformat": 4,
  "nbformat_minor": 0,
  "metadata": {
    "colab": {
      "private_outputs": true,
      "provenance": [],
      "collapsed_sections": [
        "mDgbUHAGgjLW",
        "H0kj-8xxnORC",
        "PBTbrJXOngz2",
        "448CDAPjqfQr",
        "-JiQyfWJYklI",
        "fge-S5ZAYoAp",
        "QHF8YVU7Yuh3",
        "qYpmQ266Yuh3",
        "bbFf2-_FphqN",
        "_ouA3fa0phqN",
        "Seke61FWphqN",
        "b0JNsNcRphqO",
        "rFu4xreNphqO",
        "1M8mcRywphqQ",
        "JMzcOPDDphqR",
        "PVzmfK_Ep1ck",
        "ylSl6qgtp1ck",
        "ZWILFDl5p1ck",
        "2cELzS2fp1cl",
        "3MPXvC8up1cl",
        "UV0SzAkaZNRQ",
        "EXh0U9oCveiU",
        "2Qr3Cs9YXl2I",
        "XYXn9Oj0XuFI",
        "tDRbrOQJZSHD",
        "C6iI1E6uZXK3",
        "JcMwzZxoAimU",
        "gIfDvo9L0UH2"
      ],
      "include_colab_link": true
    },
    "kernelspec": {
      "name": "python3",
      "display_name": "Python 3"
    },
    "language_info": {
      "name": "python"
    }
  },
  "cells": [
    {
      "cell_type": "markdown",
      "metadata": {
        "id": "view-in-github",
        "colab_type": "text"
      },
      "source": [
        "<a href=\"https://colab.research.google.com/github/Vinaya24-git/EDA_caps_project/blob/main/Vinaya_module2__Sample_EDA_Submission_Template.ipynb\" target=\"_parent\"><img src=\"https://colab.research.google.com/assets/colab-badge.svg\" alt=\"Open In Colab\"/></a>"
      ]
    },
    {
      "cell_type": "code",
      "source": [],
      "metadata": {
        "id": "I1apcow5dxii"
      },
      "execution_count": null,
      "outputs": []
    },
    {
      "cell_type": "markdown",
      "source": [
        "# **Project Name**    -\n",
        "\n",
        "Play Store App Review Analysis\n"
      ],
      "metadata": {
        "id": "vncDsAP0Gaoa"
      }
    },
    {
      "cell_type": "markdown",
      "source": [
        "##### **Project Type**    - EDA/Regression/Classification/Unsupervised\n",
        "##### **Contribution**    - Individual.\n",
        "##### **Team Member 1 -**\n",
        "##### **Team Member 2 -**\n",
        "##### **Team Member 3 -**\n",
        "##### **Team Member 4 -**"
      ],
      "metadata": {
        "id": "beRrZCGUAJYm"
      }
    },
    {
      "cell_type": "markdown",
      "source": [
        "# **Project Summary -**"
      ],
      "metadata": {
        "id": "FJNUwmbgGyua"
      }
    },
    {
      "cell_type": "markdown",
      "source": [
        "Write the summary here within 500-600 words.\n",
        "\n",
        " The mobile app industry is one of the fastest-growing sectors in the digital economy, with millions of apps available on platforms like the Google Play Store. Understanding the factors that contribute to an app’s popularity and success is essential for developers, marketers, and businesses aiming to enhance user experience and increase app engagement. This project focuses on analyzing a dataset of Android apps available on the Google Play Store. The goal is to uncover meaningful insights about app performance, user engagement, pricing strategies, and market trends based on various app attributes.\n",
        "\n",
        " The dataset contains a range of features for each app,including the app name,\n",
        " category, user rating, number of reviews,size, and number of installs.\n",
        " Additionally, it includes whether the app is free or paid, its price,content rating,genre,last update date,current version,and the minimum android version required.These features collectively offer a comprehensive view of the apps presence and behaviour in the Play Store ecosystem.\n",
        "\n",
        "---\n",
        "\n"
      ],
      "metadata": {
        "id": "F6v_1wHtG2nS"
      }
    },
    {
      "cell_type": "markdown",
      "source": [
        "# **GitHub Link -**"
      ],
      "metadata": {
        "id": "w6K7xa23Elo4"
      }
    },
    {
      "cell_type": "markdown",
      "source": [
        "Provide your GitHub Link here."
      ],
      "metadata": {
        "id": "h1o69JH3Eqqn"
      }
    },
    {
      "cell_type": "markdown",
      "source": [
        "# **Problem Statement**\n"
      ],
      "metadata": {
        "id": "yQaldy8SH6Dl"
      }
    },
    {
      "cell_type": "markdown",
      "source": [
        "With millions of apps available on the Google Play Store, understanding what makes an app successful is crucial for developers, marketers, and businesses. The Play Store hosts a diverse range of apps across various categories, price ranges, and user demographics. However, with such a vast marketplace, it becomes challenging to identify the key factors that drive high user ratings, large install volumes, and overall app popularity.\n",
        "\n",
        "This project aims to analyze a dataset containing various attributes of Android apps—such as their category, size, number of installs, reviews, content rating, price, and more—to identify patterns and trends that contribute to an app's success. The dataset includes the following columns:\n",
        "\n",
        "\n",
        "\n",
        "\n",
        "* App: The name of the application\n",
        "\n",
        "* Category: The category under which the app is listed (e.g., Tools, Education)\n",
        "\n",
        "* Rating: The average user rating (on a scale of 0 to 5)\n",
        "\n",
        "* Reviews: Total number of user reviews\n",
        "\n",
        "* Size: The size of the app (in MB or KB)\n",
        "\n",
        "* Installs: Number of times the app has been installed\n",
        "\n",
        "* Type: Whether the app is Free or Paid\n",
        "\n",
        "* Price: Cost of the app.\n",
        "\n",
        "* Content Rating: The intended age group of users (e.g., Everyone, Teen)\n",
        "\n",
        "* Genres: More specific classification of the app's function\n",
        "\n",
        "* Last Updated: Date of the app’s last update\n",
        "\n",
        "* Current Ver: Current version of the app\n",
        "\n",
        "* Android Ver: Minimum Android version required to run the app.\n",
        "\n",
        "\n",
        "\n",
        "\n",
        "\n",
        "\n",
        "\n"
      ],
      "metadata": {
        "id": "DpeJGUA3kjGy"
      }
    },
    {
      "cell_type": "markdown",
      "source": [
        "#### **Define Your Business Objective?**"
      ],
      "metadata": {
        "id": "PH-0ReGfmX4f"
      }
    },
    {
      "cell_type": "markdown",
      "source": [
        "Answer Here.\n",
        "\n",
        "The Play Store apps data has enormous potential to drive app-making businesses to success. Actionable insights can be drawn for developers to work on and capture the Android market. Each app (row) has values for category, rating, size, and more. Another dataset contains customer reviews of the android apps. Explore and analyse the data to discover key factors responsible for app engagement and success."
      ],
      "metadata": {
        "id": "PhDvGCAqmjP1"
      }
    },
    {
      "cell_type": "markdown",
      "source": [
        "# **General Guidelines** : -  "
      ],
      "metadata": {
        "id": "mDgbUHAGgjLW"
      }
    },
    {
      "cell_type": "markdown",
      "source": [
        "1.   Well-structured, formatted, and commented code is required.\n",
        "2.   Exception Handling, Production Grade Code & Deployment Ready Code will be a plus. Those students will be awarded some additional credits.\n",
        "     \n",
        "     The additional credits will have advantages over other students during Star Student selection.\n",
        "       \n",
        "             [ Note: - Deployment Ready Code is defined as, the whole .ipynb notebook should be executable in one go\n",
        "                       without a single error logged. ]\n",
        "\n",
        "3.   Each and every logic should have proper comments.\n",
        "4. You may add as many number of charts you want. Make Sure for each and every chart the following format should be answered.\n",
        "        \n",
        "\n",
        "```\n",
        "# Chart visualization code\n",
        "```\n",
        "            \n",
        "\n",
        "*   Why did you pick the specific chart?\n",
        "*   What is/are the insight(s) found from the chart?\n",
        "* Will the gained insights help creating a positive business impact?\n",
        "Are there any insights that lead to negative growth? Justify with specific reason.\n",
        "\n",
        "5. You have to create at least 20 logical & meaningful charts having important insights.\n",
        "\n",
        "\n",
        "[ Hints : - Do the Vizualization in  a structured way while following \"UBM\" Rule.\n",
        "\n",
        "U - Univariate Analysis,\n",
        "\n",
        "B - Bivariate Analysis (Numerical - Categorical, Numerical - Numerical, Categorical - Categorical)\n",
        "\n",
        "M - Multivariate Analysis\n",
        " ]\n",
        "\n",
        "\n",
        "\n"
      ],
      "metadata": {
        "id": "ZrxVaUj-hHfC"
      }
    },
    {
      "cell_type": "markdown",
      "source": [
        "# ***Let's Begin !***"
      ],
      "metadata": {
        "id": "O_i_v8NEhb9l"
      }
    },
    {
      "cell_type": "markdown",
      "source": [
        "Mounting Drive\n"
      ],
      "metadata": {
        "id": "Wzs7C7bMMRkJ"
      }
    },
    {
      "cell_type": "code",
      "source": [
        "from google.colab import drive\n",
        "drive.mount('/content/drive')"
      ],
      "metadata": {
        "id": "-Uz40kQHMQDh",
        "collapsed": true
      },
      "execution_count": null,
      "outputs": []
    },
    {
      "cell_type": "markdown",
      "source": [
        "## ***1. Know Your Data***"
      ],
      "metadata": {
        "id": "HhfV-JJviCcP"
      }
    },
    {
      "cell_type": "markdown",
      "source": [
        "### Import Libraries"
      ],
      "metadata": {
        "id": "Y3lxredqlCYt"
      }
    },
    {
      "cell_type": "code",
      "source": [
        "# Import Libraries\n",
        "import numpy as np\n",
        "import pandas as pd\n"
      ],
      "metadata": {
        "id": "M8Vqi-pPk-HR"
      },
      "execution_count": null,
      "outputs": []
    },
    {
      "cell_type": "markdown",
      "source": [
        "### Dataset Loading"
      ],
      "metadata": {
        "id": "3RnN4peoiCZX"
      }
    },
    {
      "cell_type": "code",
      "source": [
        "# Load Dataset\n",
        "data=pd.read_csv('/content/drive/MyDrive/module2_Capstone_Project_Dataset/Play Store Data.csv')\n",
        "data"
      ],
      "metadata": {
        "id": "4CkvbW_SlZ_R",
        "collapsed": true
      },
      "execution_count": null,
      "outputs": []
    },
    {
      "cell_type": "markdown",
      "source": [
        "### Dataset First View"
      ],
      "metadata": {
        "id": "x71ZqKXriCWQ"
      }
    },
    {
      "cell_type": "code",
      "source": [
        "# Dataset First Look\n",
        "# head is used to print first 5 rows of data\n",
        "data.head()"
      ],
      "metadata": {
        "id": "LWNFOSvLl09H",
        "collapsed": true
      },
      "execution_count": null,
      "outputs": []
    },
    {
      "cell_type": "markdown",
      "source": [
        "### Dataset Rows & Columns count"
      ],
      "metadata": {
        "id": "7hBIi_osiCS2"
      }
    },
    {
      "cell_type": "code",
      "source": [
        "# Dataset Rows & Columns count\n",
        "#shape is used to find numbers of rows and columns in dataset,\n",
        "data.shape\n",
        "#data has 10841 rows and 13 columns\n"
      ],
      "metadata": {
        "id": "Kllu7SJgmLij",
        "collapsed": true
      },
      "execution_count": null,
      "outputs": []
    },
    {
      "cell_type": "markdown",
      "source": [
        "### Dataset Information"
      ],
      "metadata": {
        "id": "JlHwYmJAmNHm"
      }
    },
    {
      "cell_type": "code",
      "source": [
        "# Dataset Info\n",
        "# prints basic information of our dataframe\n",
        "data.info()\n",
        "''' the data.info() method in pandas provides an overview of datastructure\n",
        "  1.Index info- type and range of indexes,\n",
        "  2.column info- provides an column name, datatype of each column, and non-null count for each columns.\n",
        "  3.memory usage- how much memory used by dataframe.\n",
        "'''\n",
        "\n"
      ],
      "metadata": {
        "id": "e9hRXRi6meOf",
        "collapsed": true
      },
      "execution_count": null,
      "outputs": []
    },
    {
      "cell_type": "markdown",
      "source": [
        "#### Duplicate Values"
      ],
      "metadata": {
        "id": "35m5QtbWiB9F"
      }
    },
    {
      "cell_type": "code",
      "source": [
        "# Dataset Duplicate Value Count\n",
        "# duplicate values are records that appear multiple times in dataset.\n",
        "# this code gives an duplicated values count in dataset.\n",
        "data.duplicated().sum()\n",
        "\n"
      ],
      "metadata": {
        "id": "1sLdpKYkmox0",
        "collapsed": true
      },
      "execution_count": null,
      "outputs": []
    },
    {
      "cell_type": "markdown",
      "source": [
        "#### Missing Values/Null Values"
      ],
      "metadata": {
        "id": "PoPl-ycgm1ru"
      }
    },
    {
      "cell_type": "code",
      "source": [
        "# Missing Values/Null Values Count\n",
        "# this code gives an total count of missing values\n",
        "data.isnull().sum()"
      ],
      "metadata": {
        "id": "GgHWkxvamxVg",
        "collapsed": true
      },
      "execution_count": null,
      "outputs": []
    },
    {
      "cell_type": "code",
      "source": [
        "# Visualizing the missing values\n",
        "# this code giving an missing values\n",
        "# if there is missing values it will be represented with True, or if there is no missing values then it is represented as False\n",
        "data.isnull()"
      ],
      "metadata": {
        "id": "3q5wnI3om9sJ",
        "collapsed": true
      },
      "execution_count": null,
      "outputs": []
    },
    {
      "cell_type": "code",
      "source": [
        "data"
      ],
      "metadata": {
        "collapsed": true,
        "id": "LJRqXK5LUKlF"
      },
      "execution_count": null,
      "outputs": []
    },
    {
      "cell_type": "markdown",
      "source": [
        "### What did you know about your dataset?"
      ],
      "metadata": {
        "id": "H0kj-8xxnORC"
      }
    },
    {
      "cell_type": "markdown",
      "source": [
        "this dataset appears to be related to mobile applications—likely from the Google Play Store or a similar app marketplace.\n",
        "\n",
        "Dataset insights:\n",
        "\n",
        "App is column name. it contains Name of the mobile application.it will help to identify Helps identify individual apps. Category is column name. it contains App category (e.g. Game, Education, Finance).it will help to  Allows analysis of popular or saturated categories.Rating is column name. it contains Average user rating (typically 0-5).it will be Used to assess user satisfaction and app quality.Reviews is column name. it contains Total number of user reviews. it will  Indicates popularity and user engagement.Size is column name. it contains Size of the app (e.g., in MB).it Could relate to app complexity or features.Installs is column name. it contains Number of downloads/installations.it will be Used to Reflects app popularity or market reach.Type is column name. it contains Whether the app is Free or Paid.it will be Used to compare revenue models.Price\tis column name. it contains Cost to download the app (if Paid).it will be Used to Enables revenue estimation.Content Rating is column name. it contains Age appropriateness (e.g., Everyone, Teen, Mature 17+).it will be Helps with audience targeting.Genres is column name. it contains More detailed sub-category (e.g., Action, Puzzle).it will be Helps Adds specificity to app classification.Last Updated is column name. it contains Date of the app was last updated\t. it will be used to Used to check app maintenance/freshness.Current Ver is column name. it contains Current version of the app. it Could be indicate update frequency.Android Ver\tis column name. it contains Current version of the app. it Could be indicate update frequency.\n",
        "\n",
        "we are performing an operations for our dataset like head,shape, info,duplicate,isnull methods in our dataset.\n",
        "\n",
        "\n",
        "\n",
        "\n",
        "\n",
        "\n",
        "\n",
        "\n",
        "\n",
        "\n",
        "\n",
        "\n",
        "\n",
        "\n",
        "\n",
        "\n",
        "\n"
      ],
      "metadata": {
        "id": "gfoNAAC-nUe_"
      }
    },
    {
      "cell_type": "markdown",
      "source": [
        "## ***2. Understanding Your Variables***"
      ],
      "metadata": {
        "id": "nA9Y7ga8ng1Z"
      }
    },
    {
      "cell_type": "code",
      "source": [
        "# Dataset Columns\n",
        "# this code gives an all column name in dataset.\n",
        "data.columns\n"
      ],
      "metadata": {
        "id": "j7xfkqrt5Ag5",
        "collapsed": true
      },
      "execution_count": null,
      "outputs": []
    },
    {
      "cell_type": "code",
      "source": [
        "# Dataset Describe\n",
        "# describe method in pandas provides an statistical report of our dataset. which includes count,mean,standard deviation,minimum, maximun,percentage.\n",
        "# this code gives numerical statistical report\n",
        "data.describe()\n"
      ],
      "metadata": {
        "id": "DnOaZdaE5Q5t",
        "collapsed": true
      },
      "execution_count": null,
      "outputs": []
    },
    {
      "cell_type": "markdown",
      "source": [
        "### Variables Description"
      ],
      "metadata": {
        "id": "PBTbrJXOngz2"
      }
    },
    {
      "cell_type": "markdown",
      "source": [
        "\n",
        "  variable  describe method provides an statistical report of our dataset. which includes count,mean,standard deviation,minimum, maximun,percentage."
      ],
      "metadata": {
        "id": "aJV4KIxSnxay"
      }
    },
    {
      "cell_type": "markdown",
      "source": [
        "### Check Unique Values for each variable."
      ],
      "metadata": {
        "id": "u3PMJOP6ngxN"
      }
    },
    {
      "cell_type": "code",
      "source": [
        "# Check Unique Values for each variable.\n",
        "# this code gives an unique values for each columns,\n",
        "for i in data.columns.tolist():\n",
        "  print('No of unique values in',i,'is',data[i].nunique(),\".\")"
      ],
      "metadata": {
        "id": "zms12Yq5n-jE",
        "collapsed": true
      },
      "execution_count": null,
      "outputs": []
    },
    {
      "cell_type": "markdown",
      "source": [
        "## 3. ***Data Wrangling***"
      ],
      "metadata": {
        "id": "dauF4eBmngu3"
      }
    },
    {
      "cell_type": "markdown",
      "source": [
        "### Data Wrangling Code"
      ],
      "metadata": {
        "id": "bKJF3rekwFvQ"
      }
    },
    {
      "cell_type": "code",
      "source": [
        "data"
      ],
      "metadata": {
        "collapsed": true,
        "id": "LrqCH-GCb0bS"
      },
      "execution_count": null,
      "outputs": []
    },
    {
      "cell_type": "code",
      "source": [
        "# Write your code to make your dataset analysis ready.\n",
        "\n"
      ],
      "metadata": {
        "id": "wk-9a2fpoLcV"
      },
      "execution_count": null,
      "outputs": []
    },
    {
      "cell_type": "code",
      "source": [
        "# fetch 'App','Genres','Last Updated' columns.\n",
        "# we are featching multiple columns.\n",
        "#we are using LOC methods.\n",
        "data.loc[:,['App','Genres','Last Updated']]"
      ],
      "metadata": {
        "collapsed": true,
        "id": "k27XTM_2b7BY"
      },
      "execution_count": null,
      "outputs": []
    },
    {
      "cell_type": "code",
      "source": [
        "# we are feaching single columns.\n",
        "#we are using LOC methods.\n",
        "data.loc[:,'App']"
      ],
      "metadata": {
        "collapsed": true,
        "id": "BjxRVr4Acyc1"
      },
      "execution_count": null,
      "outputs": []
    },
    {
      "cell_type": "code",
      "source": [
        "# featch 'Category','Rating','Content Rating'.\n",
        "#we are using ILOC methods.\n",
        "# ILOC Used for selecting rows and columns by their integer positions.\n",
        "data.iloc[:,[1,2,8]]"
      ],
      "metadata": {
        "collapsed": true,
        "id": "Llg7gOnXdiFZ"
      },
      "execution_count": null,
      "outputs": []
    },
    {
      "cell_type": "code",
      "source": [
        "# we are sorting Category columns values in ascending order.\n",
        "# ascending=True which sorts in increasing order.\n",
        "# When using ignore_index=True in the sort_values() method,it ensures that the resulting DataFrame has its index reset to a default integer index after sorting.\n",
        "data.sort_values('Category',ascending=True,ignore_index=True)"
      ],
      "metadata": {
        "collapsed": true,
        "id": "9fi61yvXdh2j"
      },
      "execution_count": null,
      "outputs": []
    },
    {
      "cell_type": "code",
      "source": [
        "# Set ascending=False to sort in decreasing order\n",
        "data.sort_values('Category',ascending=False)"
      ],
      "metadata": {
        "collapsed": true,
        "id": "6PddJDwWeklv"
      },
      "execution_count": null,
      "outputs": []
    },
    {
      "cell_type": "code",
      "source": [
        "# rename column Android Ver to new name Android version using rename method.\n",
        "# In Pandas, axis=1 is commonly used in functions to specify that the operation should be applied across columns (horizontally).\n",
        "data.rename({'Android Ver':'Android version'},axis=1)"
      ],
      "metadata": {
        "collapsed": true,
        "id": "PuFqT7a8ekiQ"
      },
      "execution_count": null,
      "outputs": []
    },
    {
      "cell_type": "code",
      "source": [
        "# we are using replace method.\n",
        "# can you replace LIFESTYLE in Category as lifestyle\n",
        "data.loc[:,'Category'].replace({'LIFESTYLE':'lifestyle'})"
      ],
      "metadata": {
        "id": "Jqnb_41ilP_t",
        "collapsed": true
      },
      "execution_count": null,
      "outputs": []
    },
    {
      "cell_type": "code",
      "source": [
        "# Filter for rows where 'Category' is not null and 'Type' is 'Free'\n",
        "# we are using head method to display only top 5 rows, by default head display top 5 rows.\n",
        "filter_data = data.loc[(data.loc[:,'Category'].notnull()) & (data.loc[:,'Type']=='Free')]\n",
        "display(filter_data.head())"
      ],
      "metadata": {
        "id": "qpj8phljekbH",
        "collapsed": true
      },
      "execution_count": null,
      "outputs": []
    },
    {
      "cell_type": "code",
      "source": [
        "# we are performing apply method\n",
        "# Suppose we want to convert the column Genres to uppercase\n",
        "# A function to_uppercase is defined that takes a single parameter (column), which is expected to be a string.\n",
        "# It uses the upper() method to convert the string to uppercase and then returns the result.\n",
        "def to_uppercase(column):\n",
        "  return column.upper()\n"
      ],
      "metadata": {
        "id": "An3FBlyHHLtc"
      },
      "execution_count": null,
      "outputs": []
    },
    {
      "cell_type": "code",
      "source": [
        "#data.loc[:,'Genres'] selects the Genres column from the data DataFrame.\n",
        "#.apply(to_uppercase) applies the to_uppercase function to each element of the Genres column.\n",
        "#The transformed data is assigned to a new column in the DataFrame called capital_genres.\n",
        "data.loc[:,'capital_genres']=data.loc[:,'Genres'].apply(to_uppercase)"
      ],
      "metadata": {
        "id": "L8ZfFHbuP477"
      },
      "execution_count": null,
      "outputs": []
    },
    {
      "cell_type": "code",
      "source": [
        "data.loc[:,'capital_genres']"
      ],
      "metadata": {
        "id": "woXy8uCbHLp0"
      },
      "execution_count": null,
      "outputs": []
    },
    {
      "cell_type": "code",
      "source": [],
      "metadata": {
        "id": "F5Zrn-XbHLeA"
      },
      "execution_count": null,
      "outputs": []
    },
    {
      "cell_type": "code",
      "source": [],
      "metadata": {
        "id": "dv0DROybHLa7"
      },
      "execution_count": null,
      "outputs": []
    },
    {
      "cell_type": "code",
      "source": [],
      "metadata": {
        "id": "ePOy47_GVqRe"
      },
      "execution_count": null,
      "outputs": []
    },
    {
      "cell_type": "code",
      "source": [
        "# we are converting date into proper date format.\n",
        "# i have use this columns in ploting an chart.\n",
        "data['lastupdate_datetime_format'] = pd.to_datetime(data['Last Updated'], format='%B %d, %Y', errors='coerce')"
      ],
      "metadata": {
        "id": "X7uhhy3KVqOC"
      },
      "execution_count": null,
      "outputs": []
    },
    {
      "cell_type": "code",
      "source": [
        "print(data['lastupdate_datetime_format'])"
      ],
      "metadata": {
        "collapsed": true,
        "id": "usOViQjyVqKH"
      },
      "execution_count": null,
      "outputs": []
    },
    {
      "cell_type": "code",
      "source": [
        "data"
      ],
      "metadata": {
        "collapsed": true,
        "id": "tmE3-yrjV3l7"
      },
      "execution_count": null,
      "outputs": []
    },
    {
      "cell_type": "code",
      "source": [],
      "metadata": {
        "id": "19HGawy3V3fx"
      },
      "execution_count": null,
      "outputs": []
    },
    {
      "cell_type": "markdown",
      "source": [
        "## ***4. Data Vizualization, Storytelling & Experimenting with charts : Understand the relationships between variables***"
      ],
      "metadata": {
        "id": "GF8Ens_Soomf"
      }
    },
    {
      "cell_type": "markdown",
      "source": [
        "#### Chart - 1"
      ],
      "metadata": {
        "id": "0wOQAZs5pc--"
      }
    },
    {
      "cell_type": "code",
      "source": [
        "# importing matplot lib\n",
        "import matplotlib.pyplot as plt\n",
        "import seaborn as sns"
      ],
      "metadata": {
        "id": "Ul3dxLddj86o"
      },
      "execution_count": null,
      "outputs": []
    },
    {
      "cell_type": "code",
      "source": [
        "# Chart - 1 visualization code\n",
        "# LINE PLOT CODE IN MATPLOT LIBRARY\n",
        "\n",
        "## Drop rows with missing ratings\n",
        "data = data.dropna(subset=['Rating', 'Category'])\n",
        "\n"
      ],
      "metadata": {
        "id": "BCkWYXWngMRA"
      },
      "execution_count": null,
      "outputs": []
    },
    {
      "cell_type": "code",
      "source": [
        "## # Group by category and calculate average rating\n",
        "category_ratings = data.groupby('Category')['Rating'].mean().sort_index()"
      ],
      "metadata": {
        "id": "jr3fBNtzWt8I"
      },
      "execution_count": null,
      "outputs": []
    },
    {
      "cell_type": "code",
      "source": [
        "#plot an graph\n",
        "plt.figure(figsize=(12, 6))\n",
        "plt.plot(category_ratings.index, category_ratings.values, marker='o', linestyle='-')\n",
        "plt.title('Average Rating by App Category')\n",
        "plt.xlabel('Category')\n",
        "plt.ylabel('Average Rating')\n",
        "plt.xticks(rotation=90)\n",
        "plt.show()"
      ],
      "metadata": {
        "id": "KpZwAH0OWy0_"
      },
      "execution_count": null,
      "outputs": []
    },
    {
      "cell_type": "markdown",
      "source": [
        "##### 1. Why did you pick the specific chart?"
      ],
      "metadata": {
        "id": "K5QZ13OEpz2H"
      }
    },
    {
      "cell_type": "markdown",
      "source": [
        "Answer Here.\n",
        "\n",
        "line charts is used to show an data trends over an period of time, to show an data trends of an categorical and rating columns."
      ],
      "metadata": {
        "id": "XESiWehPqBRc"
      }
    },
    {
      "cell_type": "markdown",
      "source": [
        "##### 2. What is/are the insight(s) found from the chart?"
      ],
      "metadata": {
        "id": "lQ7QKXXCp7Bj"
      }
    },
    {
      "cell_type": "markdown",
      "source": [
        "Answer Here\n",
        "\n",
        "Insights from 'Average Rating by App Category' Line Plot\n",
        "Most Highly Rated Categories:\n",
        "\n",
        "Some app categories consistently receive higher average user ratings than others. Based on typical datasets:\n",
        "\n",
        "1)Anomalous Category \"1.9\" with Rating 19.0\n",
        "\n",
        "Insight: This is likely an error or mislabeled category. The rating of 19.0 is clearly invalid, given that ratings typically range from 1.0 to 5.0.\n",
        "\n",
        "Action: This category should be investigated and possibly removed or corrected in the dataset to avoid skewing insights.\n",
        "\n",
        "2)Most Categories Have High Ratings (4.8 – 5.0)\n",
        "\n",
        "Many categories like ART_AND_DESIGN, BOOKS_AND_REFERENCE, BUSINESS, COMICS, DATING, FINANCE, and GAMES show perfect or near-perfect average ratings of 5.0.\n",
        "\n",
        "Insight: This may suggest user satisfaction is generally high, or possibly that the dataset has ratings inflation, selection bias, or includes only highly-rated apps.\n",
        "\n",
        "Action: Consider verifying whether only top-rated apps were included or if reviews were manipulated (e.g., fake or incentivized reviews).\n",
        "\n",
        "These categories tend to provide more focused and content-rich experiences, leading to higher user satisfaction.\n",
        "\n",
        "3)Slightly Lower Ratings in Some Categories\n",
        "\n",
        "Categories like:\n",
        "\n",
        "ENTERTAINMENT (4.7)\n",
        "\n",
        "HOUSE_AND_HOME (4.8)\n",
        "\n",
        "VIDEO_PLAYERS (4.9)\n",
        "\n",
        "WEATHER (4.8)\n",
        "\n",
        "AUTO_AND_VEHICLES, BEAUTY, EDUCATION (4.9)\n",
        "\n",
        "Insight: These may reflect more diverse user expectations or technical issues (e.g., bugs, poor performance).\n",
        "\n",
        "Action: App developers in these categories might benefit from focusing on UX optimization, bug fixing, or better user support.\n",
        "\n",
        "\n",
        "\n",
        "\n",
        "\n"
      ],
      "metadata": {
        "id": "C_j1G7yiqdRP"
      }
    },
    {
      "cell_type": "markdown",
      "source": [
        "##### 3. Will the gained insights help creating a positive business impact?\n",
        "Are there any insights that lead to negative growth? Justify with specific reason."
      ],
      "metadata": {
        "id": "448CDAPjqfQr"
      }
    },
    {
      "cell_type": "markdown",
      "source": [
        "Answer Here\n",
        "\n",
        "Yes, the insights gained from the average app ratings by category can help drive positive business impact in several ways:\n",
        "\n",
        "1. Improved Product Development & Strategy\n",
        "By identifying categories with slightly lower average ratings (like Entertainment, House_and_Home, Weather), developers and product teams can prioritize improvements.\n",
        "\n",
        "   This helps businesses focus resources on areas with lower user satisfaction, potentially increasing retention and app store rankings.\n",
        "\n",
        "2. Better Market Targeting\n",
        "Categories with consistently high ratings (e.g., Education, Finance, Health_and_Fitness) can indicate high user satisfaction and opportunity for growth.\n",
        "\n",
        "  Businesses can leverage this insight to enter these markets or invest further in already successful categories.\n",
        "\n",
        "3. Data Quality Awareness\n",
        "The detection of an outlier category (\"1.9\" with rating 19.0) brings attention to potential data integrity issues.\n",
        "\n",
        "  Cleaning such anomalies ensures reliable decision-making and avoids misleading conclusions.\n",
        "\n",
        "4. Competitive Benchmarking\n",
        "Businesses can benchmark their app's performance relative to category averages, helping guide marketing, feature prioritization, and customer support efforts.\n",
        "\n",
        "\n",
        "  Are there any insights that lead to negative growth? Justify with specific reason.\n",
        "\n",
        "Yes, if misunderstood or ignored, certain insights could lead to negative business outcomes:\n",
        "\n",
        "1. Misleading High Ratings\n",
        "If businesses assume that high average ratings (e.g., 4.9 or 5.0) across categories mean their apps are safe from churn, they might neglect deeper performance or user experience issues.\n",
        "\n",
        "  Example: An app with a perfect rating but few users or fake reviews might seem successful but deliver no real value or revenue.\n",
        "\n",
        "2. Ignoring Outliers and Data Errors\n",
        "The presence of the category “1.9” with a 19.0 rating can severely distort averages or mislead analyses if not removed.\n",
        "\n",
        "  Using such flawed data in business decisions could lead to wrong investments or poor strategic focus."
      ],
      "metadata": {
        "id": "3cspy4FjqxJW"
      }
    },
    {
      "cell_type": "markdown",
      "source": [
        "#### Chart - 2"
      ],
      "metadata": {
        "id": "KSlN3yHqYklG"
      }
    },
    {
      "cell_type": "code",
      "source": [
        "# Chart - 2 visualization code\n",
        "# Scatterplot PLOT CODE IN MATPLOT LIBRARY\n",
        "\n"
      ],
      "metadata": {
        "id": "FIOyKx1Lme8v"
      },
      "execution_count": null,
      "outputs": []
    },
    {
      "cell_type": "code",
      "source": [
        "# Clean data (remove missing values)\n",
        "df = data.dropna(subset=['Reviews', 'Rating'])"
      ],
      "metadata": {
        "id": "LIeUjg7bviaE"
      },
      "execution_count": null,
      "outputs": []
    },
    {
      "cell_type": "code",
      "source": [
        "\n",
        "# Convert to numeric (in case they're strings)\n",
        "df['Reviews'] = pd.to_numeric(df['Reviews'], errors='coerce')\n",
        "df['Rating'] = pd.to_numeric(df['Rating'],errors='coerce')"
      ],
      "metadata": {
        "id": "NmXaqymcvo_0"
      },
      "execution_count": null,
      "outputs": []
    },
    {
      "cell_type": "code",
      "source": [
        "# Plot\n",
        "plt.figure(figsize=(10, 6))\n",
        "plt.scatter(df['Reviews'], df['Rating'],alpha=0.1)  # alpha makes points transparent\n",
        "plt.xlabel('Reviews')\n",
        "plt.ylabel('Rating')\n",
        "plt.title('Rating vs Reviews')\n",
        "plt.show()"
      ],
      "metadata": {
        "id": "sU6CtQKYvqs-"
      },
      "execution_count": null,
      "outputs": []
    },
    {
      "cell_type": "markdown",
      "source": [
        "##### 1. Why did you pick the specific chart?"
      ],
      "metadata": {
        "id": "t6dVpIINYklI"
      }
    },
    {
      "cell_type": "markdown",
      "source": [
        "Answer Here.\n",
        "\n",
        "Scatter Plot is used to show relationship between two numerical variables.we have to show an relationship between reviews and ratings."
      ],
      "metadata": {
        "id": "5aaW0BYyYklI"
      }
    },
    {
      "cell_type": "markdown",
      "source": [
        "##### 2. What is/are the insight(s) found from the chart?"
      ],
      "metadata": {
        "id": "ijmpgYnKYklI"
      }
    },
    {
      "cell_type": "markdown",
      "source": [
        "Answer Here\n",
        "\n",
        "Insights from the Scatter Plot (Rating vs Reviews)\n",
        "1. High Ratings Aren't Always Linked to Many Reviews\n",
        "You’ll likely see many apps clustered at 4.0 to 4.5 ratings, even with low review counts.\n",
        "\n",
        "This suggests that newer or niche apps may still have good quality, despite fewer users.\n",
        "\n",
        "2. Popular Apps Show Stable Ratings\n",
        "Apps with millions of reviews (large x-values) often have ratings between 4.2 and 4.5.\n",
        "\n",
        "High-volume apps are likely well-maintained and trusted, showing consistent user satisfaction.\n",
        "\n",
        "3. Low Ratings Are Less Frequent\n",
        "You might notice fewer points below 3.5 on the Y-axis — especially for apps with high reviews.\n",
        "\n",
        "Low-rated apps typically don’t survive long or don’t get popular.\n",
        "\n",
        "4. Rating Saturation Around 4.1–4.5\n",
        "There's usually a dense band around 4.0–4.5 for a wide range of review counts.\n",
        "\n",
        "This is a common trend in app stores — many apps tend to average out in this range.\n",
        "\n",
        "5. Outliers Are Worth Investigating\n",
        "A few apps may have very high review counts but low ratings — these are potential problem apps.\n",
        "\n",
        "Apps with very few reviews but extremely high (5.0) or low ratings may be skewed by fake or initial reviews."
      ],
      "metadata": {
        "id": "PSx9atu2YklI"
      }
    },
    {
      "cell_type": "markdown",
      "source": [
        "##### 3. Will the gained insights help creating a positive business impact?\n",
        "Are there any insights that lead to negative growth? Justify with specific reason."
      ],
      "metadata": {
        "id": "-JiQyfWJYklI"
      }
    },
    {
      "cell_type": "markdown",
      "source": [
        "Answer Here\n",
        "\n",
        "Positive Bussiness Impact:\n",
        "\n",
        "User Trust Matters: High ratings are crucial, even more than high review volume in some niches.\n",
        "\n",
        " Focus on customer experience, support, and bug fixes to maintain high ratings.\n",
        "\n",
        "Invest in high-rated apps to promote:\n",
        "\n",
        " If an app has a 4.5+ rating, even with few reviews, it may be worth promoting via ads to gain traction.\n",
        "\n",
        "Leverage successful models:\n",
        "\n",
        " Study the few apps with millions of reviews and high ratings to understand what they’re doing right (features, update frequency, marketing, etc.).\n",
        "\n",
        " Negative Impact:\n",
        "\n",
        "Ignoring small apps with low reviews but good ratings: Could miss early-stage high-potential apps.\n",
        "\n",
        "Overemphasis on review count alone: Some apps with huge review counts but only average ratings could be reaching saturation or losing quality.\n",
        "\n",
        "Neglecting retention and support: A high review count with declining rating (not shown directly here, but observable over time) could indicate growing dissatisfaction — a warning sign.\n",
        "\n"
      ],
      "metadata": {
        "id": "BcBbebzrYklV"
      }
    },
    {
      "cell_type": "markdown",
      "source": [
        "#### Chart - 3"
      ],
      "metadata": {
        "id": "EM7whBJCYoAo"
      }
    },
    {
      "cell_type": "code",
      "source": [
        "import matplotlib.pyplot as plt\n"
      ],
      "metadata": {
        "id": "Au3rOzZ4bep0"
      },
      "execution_count": null,
      "outputs": []
    },
    {
      "cell_type": "code",
      "source": [
        "# Chart - 3 visualization code\n",
        "data['Type'].value_counts().plot.pie(autopct='%2.1f%%',colors=['yellow','lightblue'])\n",
        "plt.title('Distribution of free and paid apps')\n",
        "plt.show()"
      ],
      "metadata": {
        "id": "t6GMdE67YoAp",
        "collapsed": true
      },
      "execution_count": null,
      "outputs": []
    },
    {
      "cell_type": "markdown",
      "source": [
        "##### 1. Why did you pick the specific chart?"
      ],
      "metadata": {
        "id": "fge-S5ZAYoAp"
      }
    },
    {
      "cell_type": "markdown",
      "source": [
        "*Answer* Here.\n",
        "\n",
        "Pie chart is used to show relative proportions of a set of values or percentage of whole chart, Pie charts are easy to read and provide a quick visual summary of the data,here we are using TYPE columns to show percentage of values to paid and free apps."
      ],
      "metadata": {
        "id": "5dBItgRVYoAp"
      }
    },
    {
      "cell_type": "markdown",
      "source": [
        "##### 2. What is/are the insight(s) found from the chart?"
      ],
      "metadata": {
        "id": "85gYPyotYoAp"
      }
    },
    {
      "cell_type": "markdown",
      "source": [
        "Answer Here\n",
        "\n",
        "In this chart there are 93.1% of free apps, and there 6.9% paid apps found in this chart."
      ],
      "metadata": {
        "id": "4jstXR6OYoAp"
      }
    },
    {
      "cell_type": "markdown",
      "source": [
        "##### 3. Will the gained insights help creating a positive business impact?\n",
        "Are there any insights that lead to negative growth? Justify with specific reason."
      ],
      "metadata": {
        "id": "RoGjAbkUYoAp"
      }
    },
    {
      "cell_type": "markdown",
      "source": [
        "Answer Here\n",
        "yes it hepls to understands they apps that are free and paid, based on that they developer works on they apps and improve they apps"
      ],
      "metadata": {
        "id": "zfJ8IqMcYoAp"
      }
    },
    {
      "cell_type": "markdown",
      "source": [
        "# UNIVARIATE Analysis:\n",
        "\n"
      ],
      "metadata": {
        "id": "tLMw_g8Z52wV"
      }
    },
    {
      "cell_type": "markdown",
      "source": [
        "Analysizg single variable\n",
        "\n",
        "\n",
        "\n",
        "1.  Histogram(1 numerical columns) Used for finding distribution of data\n",
        "2.  Boxplot :(1 num col) Used for finding outliers\n",
        "3. count plot(1 cat col) : used for find frequency of categories\n"
      ],
      "metadata": {
        "id": "65wkhHsE6IiA"
      }
    },
    {
      "cell_type": "markdown",
      "source": [
        "#### Chart - 4"
      ],
      "metadata": {
        "id": "4Of9eVA-YrdM"
      }
    },
    {
      "cell_type": "code",
      "source": [
        "# Chart - 4 visualization code\n",
        "# 1.Histogram(1 numerical columns) Used for finding distribution of data.\n",
        "plt.figure(figsize=(8, 3))\n",
        "sns.histplot(data['Rating'],bins=50,kde=True)\n",
        "plt.title('distribution of rating')\n",
        "plt.xlabel('rating')\n",
        "plt.ylabel('Frequency')\n",
        "plt.show()\n"
      ],
      "metadata": {
        "id": "irlUoxc8YrdO"
      },
      "execution_count": null,
      "outputs": []
    },
    {
      "cell_type": "markdown",
      "source": [
        "##### 1. Why did you pick the specific chart?"
      ],
      "metadata": {
        "id": "iky9q4vBYrdO"
      }
    },
    {
      "cell_type": "markdown",
      "source": [
        "Visualizes the frequency distribution of a numeric variable.Shows how data is distributed (e.g., normal, skewed, uniform).Helps identify modes (peaks) in the data.here we are finding distribution of an ratings columns."
      ],
      "metadata": {
        "id": "aJRCwT6DYrdO"
      }
    },
    {
      "cell_type": "markdown",
      "source": [
        "##### 2. What is/are the insight(s) found from the chart?"
      ],
      "metadata": {
        "id": "F6T5p64dYrdO"
      }
    },
    {
      "cell_type": "markdown",
      "source": [
        "Insights: the histogram tells that ratings are more distributed towards left skwed,\n",
        "\n",
        "\n",
        "Frequency: the most rating falls in between 2.5 to 5.0\n",
        "\n",
        "\n",
        "rare ratings: ratings greater than 4.3 to 4.4 are likely belongs to rare ratings\n",
        "\n",
        "Density Curve: The KDE curve in the histogram and highlights the peak around 4.0-4.5 units."
      ],
      "metadata": {
        "id": "Xx8WAJvtYrdO"
      }
    },
    {
      "cell_type": "markdown",
      "source": [
        "##### 3. Will the gained insights help creating a positive business impact?\n",
        "Are there any insights that lead to negative growth? Justify with specific reason."
      ],
      "metadata": {
        "id": "y-Ehk30pYrdP"
      }
    },
    {
      "cell_type": "markdown",
      "source": [
        "1. Positive Business Impact:\n",
        "\n",
        "  Yes, the insights from the graph can create a positive business impact.\n",
        "  The histogram shows that most ratings are clustered around 4–5, indicating generally high customer satisfaction. This can be leveraged for:\n",
        "\n",
        "   Marketing (highlighting strong average ratings)\n",
        "\n",
        "    Reinforcing successful practices (e.g., top-rated services/products)\n",
        "2. Negative Growth Insights:\n",
        "\n",
        "   Yes, there’s a tail on the left and outliers on the right (e.g., ratings above 10 or even 18), which are not realistic for a typical 1–5 rating scale.\n",
        "These may indicate:\n",
        "\n",
        "  Data quality issues (e.g., errors or manipulation)\n",
        "\n",
        "  System flaws in rating inputs\n",
        "\n",
        "  Such inconsistencies, if not corrected, can erode trust in the platform and negatively impact business credibility."
      ],
      "metadata": {
        "id": "jLNxxz7MYrdP"
      }
    },
    {
      "cell_type": "markdown",
      "source": [
        "#### Chart - 5"
      ],
      "metadata": {
        "id": "bamQiAODYuh1"
      }
    },
    {
      "cell_type": "code",
      "source": [
        "# Chart - 5 visualization code\n",
        "# 2.Boxplot :(1 num col) Used for finding outliers.\n",
        "\n",
        "plt.figure(figsize=(6, 3))\n",
        "sns.boxplot(data['Rating'])\n",
        "plt.title('boxplot of rating')\n",
        "plt.xlabel('rating')\n",
        "plt.show()\n"
      ],
      "metadata": {
        "id": "TIJwrbroYuh3"
      },
      "execution_count": null,
      "outputs": []
    },
    {
      "cell_type": "markdown",
      "source": [
        "##### 1. Why did you pick the specific chart?"
      ],
      "metadata": {
        "id": "QHF8YVU7Yuh3"
      }
    },
    {
      "cell_type": "markdown",
      "source": [
        " it is used to Summarizes data through its minimum, first quartile (Q1), median, third quartile (Q3), and maximum, along with identifying outliers. here we are rating columns to plot an box plot."
      ],
      "metadata": {
        "id": "dcxuIMRPYuh3"
      }
    },
    {
      "cell_type": "markdown",
      "source": [
        "##### 2. What is/are the insight(s) found from the chart?"
      ],
      "metadata": {
        "id": "GwzvFGzlYuh3"
      }
    },
    {
      "cell_type": "markdown",
      "source": [
        "Median Value: The central line in the box shows the median in rating, which is close to the lower end of the distribution, reinforcing the histogram insight.\n",
        "\n",
        "Interquartile Range (IQR): The majority of ratings are within a narrow range (the box), indicating consistency in ratings from users for most rating values.\n",
        "\n",
        "Outliers: A few of they outliers (beyond the whiskers) represent ratings with exceptionally large rating from out of range.here the values of outliers will be lies in above 17.5 and 18."
      ],
      "metadata": {
        "id": "uyqkiB8YYuh3"
      }
    },
    {
      "cell_type": "markdown",
      "source": [
        "##### 3. Will the gained insights help creating a positive business impact?\n",
        "Are there any insights that lead to negative growth? Justify with specific reason."
      ],
      "metadata": {
        "id": "qYpmQ266Yuh3"
      }
    },
    {
      "cell_type": "markdown",
      "source": [
        "1.  Positive Business Impact:\n",
        "\n",
        "    Yes, the boxplot shows that most ratings are tightly grouped around 4 to 5, suggesting high and consistent customer satisfaction.\n",
        "This can help businesses:\n",
        "\n",
        "   Build trust with potential customers\n",
        "\n",
        "  Focus on maintaining quality\n",
        "\n",
        "2. Negative Growth Insights:\n",
        "\n",
        "   Yes, the presence of outliers, especially a rating near 18, is a clear data anomaly (assuming the rating scale is 1–5).\n",
        "This can:\n",
        "\n",
        "  Distort analytics and decision-making\n",
        "\n",
        "  Reduce credibility if not cleaned, impacting customer trust and business growth\n",
        "\n",
        "  Action: Clean outliers to ensure reliable insights."
      ],
      "metadata": {
        "id": "_WtzZ_hCYuh4"
      }
    },
    {
      "cell_type": "markdown",
      "source": [
        "#### Chart - 6"
      ],
      "metadata": {
        "id": "OH-pJp9IphqM"
      }
    },
    {
      "cell_type": "code",
      "source": [
        "# Chart - 6 visualization code.\n",
        "# count plot(1 cat col) : used for find frequency of categories.\n",
        "\n",
        "plt.figure(figsize=(10,5))\n",
        "sns.countplot(data=data,x='Rating',order=data['Rating'].value_counts().index)\n",
        "plt.title('count plot of rating')\n",
        "plt.xlabel('rating')\n",
        "plt.show()\n",
        "\n"
      ],
      "metadata": {
        "id": "kuRf4wtuphqN"
      },
      "execution_count": null,
      "outputs": []
    },
    {
      "cell_type": "markdown",
      "source": [
        "##### 1. Why did you pick the specific chart?"
      ],
      "metadata": {
        "id": "bbFf2-_FphqN"
      }
    },
    {
      "cell_type": "markdown",
      "source": [
        "A count plot is a type of bar chart used to display the frequency of categorical variables.here in this chart we are using an rating columns and also to in y-Axis we are counting each vaues of rating."
      ],
      "metadata": {
        "id": "loh7H2nzphqN"
      }
    },
    {
      "cell_type": "markdown",
      "source": [
        "##### 2. What is/are the insight(s) found from the chart?"
      ],
      "metadata": {
        "id": "_ouA3fa0phqN"
      }
    },
    {
      "cell_type": "markdown",
      "source": [
        "Insights:\n",
        "\n",
        "  Ratings: they rating is the most frequent rating in the dataset is around 4.4, indicating its is getting more ratings compare to other rating values,due to its popularity and wide consumer base on ratings.\n",
        "\n",
        "  average ratings Representation: Ratings like 4.0 to 4.3 are also average ratings, reflecting their significant ratings based on users usage of apps  but slightly lower representation compared to ratings 4.4.\n",
        "\n",
        "  Rare Ratings: ratings like 19.0, 1.2, 1.5, and 1.4 have minimum ratings, suggesting they developers to make good apps to users, or have lower usage of apps in the regions covered by the dataset."
      ],
      "metadata": {
        "id": "VECbqPI7phqN"
      }
    },
    {
      "cell_type": "markdown",
      "source": [
        "##### 3. Will the gained insights help creating a positive business impact?\n",
        "Are there any insights that lead to negative growth? Justify with specific reason."
      ],
      "metadata": {
        "id": "Seke61FWphqN"
      }
    },
    {
      "cell_type": "markdown",
      "source": [
        "1. Positive Business Impact:\n",
        "\n",
        "  Yes, the graph shows that higher ratings (around 4.4 to 5.0) have the highest counts, which means most users are satisfied.\n",
        "  This helps build brand trust, improve customer retention, and drive positive marketing strategies.\n",
        "\n",
        "2. Negative Growth Insights:\n",
        "\n",
        " Yes, there are signs of data quality issues:\n",
        "\n",
        " The x-axis has too many ratings (e.g., 4.24, 4.14), this has average Ratings and found in insights.\n",
        "\n",
        " Some low ratings (1.0–2.0) are also present, showing a segment of unhappy customers.\n",
        "\n",
        " Analyze low ratings to identify and resolve issues causing dissatisfaction.\n"
      ],
      "metadata": {
        "id": "DW4_bGpfphqN"
      }
    },
    {
      "cell_type": "markdown",
      "source": [
        "## Bivariate\n",
        "Analysing 2 variables\n",
        "\n",
        "\n",
        "1.line chart\n",
        "\n",
        "2.scatter plot\n",
        "\n",
        "3.bar chart\n",
        "\n",
        "4.box plot\n"
      ],
      "metadata": {
        "id": "jcch5mnsML-x"
      }
    },
    {
      "cell_type": "markdown",
      "source": [
        "#### Chart - 7"
      ],
      "metadata": {
        "id": "PIIx-8_IphqN"
      }
    },
    {
      "cell_type": "code",
      "source": [
        "# Chart - 7 visualization code\n",
        "# Line chart.\n",
        "plt.figure(figsize=(10,5))\n",
        "sns.lineplot(data=data,x='Rating',y='Category')\n",
        "plt.title('rating based on reviews')\n",
        "plt.xlabel('rating')\n",
        "plt.ylabel('reviews')\n",
        "plt.show()"
      ],
      "metadata": {
        "id": "lqAIGUfyphqO",
        "collapsed": true
      },
      "execution_count": null,
      "outputs": []
    },
    {
      "cell_type": "markdown",
      "source": [
        "##### 1. Why did you pick the specific chart?"
      ],
      "metadata": {
        "id": "t27r6nlMphqO"
      }
    },
    {
      "cell_type": "markdown",
      "source": [
        "A line plot connects data points with a line to show trends over time or across continuous variables.here we are using an rating and reviews columns to plot an linechart."
      ],
      "metadata": {
        "id": "iv6ro40sphqO"
      }
    },
    {
      "cell_type": "markdown",
      "source": [
        "##### 2. What is/are the insight(s) found from the chart?"
      ],
      "metadata": {
        "id": "r2jJGEOYphqO"
      }
    },
    {
      "cell_type": "markdown",
      "source": [
        "Insights from the chart (Rating vs Reviews by Category):\n",
        "\n",
        "1.Most categories have ratings clustered between 3.5 and 5, showing generally good feedback across app categories.\n",
        "\n",
        "2.The line sharply drops after rating 5, showing abnormal ratings >5, likely due to data errors or outliers (e.g., rating of 18.5), which should not exist in a 1–5 scale.\n",
        "\n",
        "3.High variation in review counts is visible for the same rating values, meaning reviews alone don't consistently predict rating — some apps with fewer reviews still have high ratings."
      ],
      "metadata": {
        "id": "Po6ZPi4hphqO"
      }
    },
    {
      "cell_type": "markdown",
      "source": [
        "##### 3. Will the gained insights help creating a positive business impact?\n",
        "Are there any insights that lead to negative growth? Justify with specific reason."
      ],
      "metadata": {
        "id": "b0JNsNcRphqO"
      }
    },
    {
      "cell_type": "markdown",
      "source": [
        "1. Positive Business Impact:\n",
        "\n",
        "   Yes, the chart shows that most app categories (e.g., EDUCATION, ENTERTAINMENT, HEALTH) have ratings clustered between 3 and 5, indicating generally good user satisfaction.\n",
        "This can help:\n",
        "\n",
        "  Identify well-performing categories\n",
        "\n",
        "  Focus on promoting and investing in those high-rated segments\n",
        "\n",
        "2. Negative Growth Insights:\n",
        "\n",
        "  Yes, there are signs of data issues that can lead to negative growth:\n",
        "\n",
        " The presence of ratings greater than 5 (up to 18.5) is unrealistic and indicates data errors or system flaws\n",
        "\n",
        " The downward slope after rating 5 suggests distorted trends due to these invalid outliers"
      ],
      "metadata": {
        "id": "xvSq8iUTphqO"
      }
    },
    {
      "cell_type": "markdown",
      "source": [
        "#### Chart - 8"
      ],
      "metadata": {
        "id": "BZR9WyysphqO"
      }
    },
    {
      "cell_type": "code",
      "source": [
        "# Chart - 8 visualization code\n",
        "sns.scatterplot(data=data,x='lastupdate_datetime_format',y='Installs')\n",
        "plt.title('last update based on installs')\n",
        "plt.xlabel('last update')\n",
        "plt.ylabel('installs')\n",
        "plt.show()"
      ],
      "metadata": {
        "id": "TdPTWpAVphqO"
      },
      "execution_count": null,
      "outputs": []
    },
    {
      "cell_type": "markdown",
      "source": [
        "##### 1. Why did you pick the specific chart?"
      ],
      "metadata": {
        "id": "jj7wYXLtphqO"
      }
    },
    {
      "cell_type": "markdown",
      "source": [
        "A scatter plot visualizes the relationship between two numerical variables by plotting points on a 2D plane.here we are using an last update columns and install column, to check an apps that are last updated based on installs."
      ],
      "metadata": {
        "id": "Ob8u6rCTphqO"
      }
    },
    {
      "cell_type": "markdown",
      "source": [
        "##### 2. What is/are the insight(s) found from the chart?"
      ],
      "metadata": {
        "id": "eZrbJ2SmphqO"
      }
    },
    {
      "cell_type": "markdown",
      "source": [
        "Insights from the chart (Last Update vs Installs):\n",
        "\n",
        "Most popular apps (with high installs) are updated frequently, especially from 2016 to 2018.\n",
        "→ Regular updates seem linked to higher user engagement and install counts.\n",
        "\n",
        "Less frequently updated apps (before 2015) mostly have fewer installs, showing that outdated apps attract fewer users.\n",
        "\n",
        "The bottom-left area is sparse, meaning apps with low installs and no recent updates are rare or not well-performing."
      ],
      "metadata": {
        "id": "mZtgC_hjphqO"
      }
    },
    {
      "cell_type": "markdown",
      "source": [
        "##### 3. Will the gained insights help creating a positive business impact?\n",
        "Are there any insights that lead to negative growth? Justify with specific reason."
      ],
      "metadata": {
        "id": "rFu4xreNphqO"
      }
    },
    {
      "cell_type": "markdown",
      "source": [
        "1. Positive Business Impact:\n",
        "\n",
        "   Yes, the insights can help drive positive outcomes.\n",
        "  The chart shows that apps with higher installs are updated more recently (2016–2018), suggesting:\n",
        "\n",
        " Regular updates improve user trust, engagement, and visibility on app stores\n",
        "\n",
        " Businesses can use this to plan frequent updates for better growth and retention\n",
        "\n",
        "2. Insights That May Lead to Negative Growth:\n",
        "\n",
        "  Yes, there are potential risks:\n",
        "\n",
        "  Apps not updated since 2010–2014 mostly have low install counts, showing that neglecting updates can reduce visibility and user interest\n",
        "\n",
        "  This can hurt user retention, app store ranking, and overall brand reputation\n",
        "\n"
      ],
      "metadata": {
        "id": "ey_0qi68phqO"
      }
    },
    {
      "cell_type": "markdown",
      "source": [
        "#### Chart - 9"
      ],
      "metadata": {
        "id": "YJ55k-q6phqO"
      }
    },
    {
      "cell_type": "code",
      "source": [
        "# Chart - 9 visualization code\n",
        "# Filter outliers for better visualization (e.g., Price > $100)\n",
        "if data['Price'].dtype == 'object':\n",
        "    data['Price'] = data['Price'].str.replace('$', '').str.replace(',', '') #This line cleans the Price column by removing: The dollar sign ($) and Any commas (,), which are common in prices like $1,299.99,  Example:'$4.99' → '4.99' '$1,299.99' → '1299.99'\n",
        "    data['Price'] = pd.to_numeric(data['Price'], errors='coerce') #Converts the cleaned Price column from string to numeric (float),If any value can’t be converted, it becomes NaN (because of errors='coerce'),This ensures the Price column can be used in numeric calculations and plots\n",
        "\n",
        "filtered_data = data[(data['Price'] < 100) & (data['Price'] >= 0)] #Filters the dataset to keep only rows where: Price is between $0 and $100\n"
      ],
      "metadata": {
        "id": "B2aS4O1ophqO",
        "collapsed": true
      },
      "execution_count": null,
      "outputs": []
    },
    {
      "cell_type": "code",
      "source": [
        "sns.barplot(data=data,x='Type', y='Price')\n",
        "plt.show()"
      ],
      "metadata": {
        "id": "T1tZFg73gEKk"
      },
      "execution_count": null,
      "outputs": []
    },
    {
      "cell_type": "code",
      "source": [
        "# we are checking counts of price.\n",
        "data['Price'].unique()"
      ],
      "metadata": {
        "collapsed": true,
        "id": "Hh8vyvDXga_2"
      },
      "execution_count": null,
      "outputs": []
    },
    {
      "cell_type": "markdown",
      "source": [
        "##### 1. Why did you pick the specific chart?"
      ],
      "metadata": {
        "id": "gCFgpxoyphqP"
      }
    },
    {
      "cell_type": "markdown",
      "source": [
        "A bar plot represents categorical data with rectangular bars,and prices of each categorical data in Y-axis."
      ],
      "metadata": {
        "id": "TVxDimi2phqP"
      }
    },
    {
      "cell_type": "markdown",
      "source": [
        "##### 2. What is/are the insight(s) found from the chart?"
      ],
      "metadata": {
        "id": "OVtJsKN_phqQ"
      }
    },
    {
      "cell_type": "markdown",
      "source": [
        "Insights from the chart (Type vs Price):\n",
        "\n",
        "Free apps have no price, as expected (value = 0).\n",
        "\n",
        "Paid apps have an average price around $13–14, with some variation (shown by the error bar).\n",
        "\n",
        "There’s an unexpected third category labeled \"0\", which may be a data entry error or misclassified app type."
      ],
      "metadata": {
        "id": "ngGi97qjphqQ"
      }
    },
    {
      "cell_type": "markdown",
      "source": [
        "##### 3. Will the gained insights help creating a positive business impact?\n",
        "Are there any insights that lead to negative growth? Justify with specific reason."
      ],
      "metadata": {
        "id": "lssrdh5qphqQ"
      }
    },
    {
      "cell_type": "markdown",
      "source": [
        "\n",
        "1. Positive Business Impact:\n",
        "\n",
        " Yes, the insights are useful:\n",
        "\n",
        " The chart clearly shows Free apps = 0, while Paid apps average around $13–14, helping businesses understand pricing patterns.\n",
        "\n",
        " This can guide pricing strategies, such as competitive positioning or deciding whether to offer both free and paid versions.\n",
        "\n",
        "2. Negative Growth Insights:\n",
        "\n",
        " Yes, one issue may cause negative impact:\n",
        "\n",
        " The \"0\" category under Type is likely a data entry or classification error. If not fixed, it can:\n",
        "\n",
        " Distort analysis\n",
        "\n",
        " Mislead decision-making\n",
        "\n",
        " Damage data integrity and business planning"
      ],
      "metadata": {
        "id": "tBpY5ekJphqQ"
      }
    },
    {
      "cell_type": "markdown",
      "source": [
        "#### Chart - 10"
      ],
      "metadata": {
        "id": "U2RJ9gkRphqQ"
      }
    },
    {
      "cell_type": "code",
      "source": [
        "# Chart - 10 visualization code\n",
        "plt.figure(figsize=(10,6))\n",
        "sns.boxplot(data=data,x='Content Rating',y='Rating')\n",
        "plt.title('content rating based on rating')\n",
        "plt.xlabel('content rating')\n",
        "plt.ylabel('rating')\n",
        "plt.show()"
      ],
      "metadata": {
        "id": "GM7a4YP4phqQ"
      },
      "execution_count": null,
      "outputs": []
    },
    {
      "cell_type": "markdown",
      "source": [
        "##### 1. Why did you pick the specific chart?"
      ],
      "metadata": {
        "id": "1M8mcRywphqQ"
      }
    },
    {
      "cell_type": "markdown",
      "source": [
        "Summarizes data through its minimum, first quartile (Q1), median, third quartile (Q3), and maximum, along with identifying outliers.here we are using an column content rating based on rating. we are showing an every category users and there ratings."
      ],
      "metadata": {
        "id": "8agQvks0phqQ"
      }
    },
    {
      "cell_type": "markdown",
      "source": [
        "##### 2. What is/are the insight(s) found from the chart?"
      ],
      "metadata": {
        "id": "tgIPom80phqQ"
      }
    },
    {
      "cell_type": "markdown",
      "source": [
        "Detailed Insights from the Box Plot\n",
        "\n",
        "1. \"Everyone\" category dominates in volume and has high user satisfaction\n",
        "It has the largest number of data points, as seen by the numerous outliers (dots below the box).\n",
        "\n",
        " The median rating is around 4.3, showing that apps for general audiences are well-received.\n",
        "\n",
        " The distribution is tight, meaning most apps in this group are rated consistently.\n",
        "\n",
        "2. \"Teen\" and \"Everyone 10+\" also perform well\n",
        "Both categories show very similar distributions to \"Everyone\" with medians around 4.3–4.4.\n",
        "\n",
        " This suggests that apps targeting older children and teenagers are just as popular and well-rated as general apps.\n",
        "\n",
        "3. \"Mature 17+\" shows the most variability\n",
        " This group has the widest box and whiskers, with several outliers dipping as low as 1.0.\n",
        "\n",
        " Indicates that apps in this category are less consistent in quality or more polarizing, possibly due to sensitive or niche content.\n",
        "\n",
        "4. \"Adults only 18+\" shows high but narrow ratings\n",
        "Ratings mostly fall between 4.2 and 4.6, with almost no outliers.\n",
        "\n",
        " Suggests apps in this category may have fewer users but more consistent satisfaction.\n",
        "\n",
        "5. \"Unrated\" is an outlier category itself\n",
        "It shows a single flat line, indicating a small sample size or identical rating values.\n",
        "\n",
        "2) Summary:\n",
        "\n",
        "   Family-friendly apps (Everyone, Teen, Everyone 10+) dominate the market and have consistently strong ratings.\n",
        "\n",
        "   Mature content apps are more volatile, showing greater variation in quality or reception.\n",
        "\n",
        "   Categories with fewer apps (Adults only 18+, Unrated) may need deeper investigation before drawing strong conclusions.\n"
      ],
      "metadata": {
        "id": "Qp13pnNzphqQ"
      }
    },
    {
      "cell_type": "markdown",
      "source": [
        "##### 3. Will the gained insights help creating a positive business impact?\n",
        "Are there any insights that lead to negative growth? Justify with specific reason."
      ],
      "metadata": {
        "id": "JMzcOPDDphqR"
      }
    },
    {
      "cell_type": "markdown",
      "source": [
        "1. Positive Business Impact:\n",
        "\n",
        "   The consistently high ratings in \"Everyone\", \"Teen\", and \"Everyone 10+\" suggest these categories are popular and well-received, making them ideal for targeting a broad audience.\n",
        "\n",
        "   Businesses can focus more on developing apps for general and teen users to maximize reach and satisfaction.\n",
        "\n",
        "2. Negative Growth Insights:\n",
        "\n",
        "  The \"Mature 17+\" category shows a wide variation in ratings, including very low ratings (down to 1.0).\n",
        "  \n",
        "  This inconsistency can hurt brand reputation or lead to poor user retention if not addressed.\n",
        "\n",
        "  \"Unrated\" apps lack sufficient data and show little engagement, indicating low visibility or trust, which can negatively impact growth."
      ],
      "metadata": {
        "id": "R4Ka1PC2phqR"
      }
    },
    {
      "cell_type": "markdown",
      "source": [
        "#### Chart - 11"
      ],
      "metadata": {
        "id": "x-EpHcCOp1ci"
      }
    },
    {
      "cell_type": "code",
      "source": [
        "# Chart - 11 visualization code\n",
        "# Bar PLOT CODE IN MATPLOT LIBRARY\n",
        "# Count number of apps per content rating\n",
        "rating_count = data['Content Rating'].value_counts()\n"
      ],
      "metadata": {
        "id": "mAQTIvtqp1cj"
      },
      "execution_count": null,
      "outputs": []
    },
    {
      "cell_type": "code",
      "source": [
        "\n",
        "\n",
        "# Plot bar chart\n",
        "plt.figure(figsize=(8, 5))\n",
        "plt.bar(rating_count.index, rating_count.values, color='skyblue', edgecolor='black')\n",
        "\n",
        "plt.title('Number of Apps by Content Rating')\n",
        "plt.xlabel('Content Rating')\n",
        "plt.ylabel('Number of Apps')\n",
        "plt.xticks(rotation=45)\n",
        "plt.tight_layout()\n",
        "plt.show()"
      ],
      "metadata": {
        "collapsed": true,
        "id": "m94pRC3YOOK8"
      },
      "execution_count": null,
      "outputs": []
    },
    {
      "cell_type": "markdown",
      "source": [
        "##### 1. Why did you pick the specific chart?"
      ],
      "metadata": {
        "id": "X_VqEhTip1ck"
      }
    },
    {
      "cell_type": "markdown",
      "source": [
        "A bar plot is a type of plot that displays categorical data with rectangular bars. It is used to compare the values of different categories. here we are using an column content rating and counting each categorical data with number of apps."
      ],
      "metadata": {
        "id": "-vsMzt_np1ck"
      }
    },
    {
      "cell_type": "markdown",
      "source": [
        "##### 2. What is/are the insight(s) found from the chart?"
      ],
      "metadata": {
        "id": "8zGJKyg5p1ck"
      }
    },
    {
      "cell_type": "markdown",
      "source": [
        "Insights from the Bar Chart: Number of Apps by Content Rating\n",
        "  \n",
        "1. \"Everyone\" dominates the app market\n",
        "\n",
        "  The vast majority of apps are rated for \"Everyone\", clearly showing developers target the widest possible audience.\n",
        "\n",
        "2. \"Teen\", \"Mature 17+\", and \"Everyone 10+\" follow far behind\n",
        "\n",
        "  These categories have significantly fewer apps, suggesting that apps tailored to specific age groups are less common.\n",
        "\n",
        "3. Very few or no apps in \"Adults only 18+\" and \"Unrated\"\n",
        "\n",
        "  These categories are either rarely used or not preferred by developers, possibly due to limited demand or store restrictions."
      ],
      "metadata": {
        "id": "ZYdMsrqVp1ck"
      }
    },
    {
      "cell_type": "markdown",
      "source": [
        "##### 3. Will the gained insights help creating a positive business impact?\n",
        "Are there any insights that lead to negative growth? Justify with specific reason."
      ],
      "metadata": {
        "id": "PVzmfK_Ep1ck"
      }
    },
    {
      "cell_type": "markdown",
      "source": [
        " the gained insights help create a positive business impact?\n",
        "\n",
        "\n",
        "1. The chart clearly shows that the majority of apps fall under the \"Everyone\" content rating, which indicates a broad user base and high demand.\n",
        "\n",
        "2. Targeting this category can lead to wider reach, better user engagement, and higher install potential, making it a smart choice for app developers and businesses.\n",
        "\n",
        "3. It helps businesses prioritize app development that appeals to general audiences, especially for family-friendly or utility-based apps.\n",
        "\n",
        "the insights that lead to negative growth?\n",
        "\n",
        "1. Categories like \"Adults only 18+\" and \"Unrated\" have very few apps, which could indicate:\n",
        "\n",
        "  Low user trust or interest, especially for \"Unrated\" apps.\n",
        "\n",
        "  Store restrictions or limited marketability for adult-only apps.\n",
        "\n",
        "2. Investing in these categories could lead to low visibility, fewer downloads, and higher compliance risk, potentially harming growth or reputation."
      ],
      "metadata": {
        "id": "druuKYZpp1ck"
      }
    },
    {
      "cell_type": "markdown",
      "source": [
        "#### Chart - 12"
      ],
      "metadata": {
        "id": "n3dbpmDWp1ck"
      }
    },
    {
      "cell_type": "code",
      "source": [
        "# Chart - 12 visualization code\n",
        "# pie PLOT CODE IN MATPLOT LIBRARY\n",
        "# Count number of apps per content rating\n",
        "\n",
        "content_rating_counts = data['Content Rating'].value_counts()"
      ],
      "metadata": {
        "id": "bwevp1tKp1ck"
      },
      "execution_count": null,
      "outputs": []
    },
    {
      "cell_type": "code",
      "source": [
        "plt.figure(figsize=(7, 7))\n",
        "plt.pie(\n",
        "    content_rating_counts,\n",
        "    labels=content_rating_counts.index,\n",
        "    autopct='%1.01f%%',\n",
        "    startangle=200,\n",
        "    colors=plt.cm.Set3.colors  # Predefined colormap\n",
        ")\n",
        "plt.title('Distribution of Apps by Content Rating')\n",
        "plt.axis('equal')  # Ensures the pie is a perfect circle\n",
        "plt.show()"
      ],
      "metadata": {
        "id": "NW2Z72iuUTx6",
        "collapsed": true
      },
      "execution_count": null,
      "outputs": []
    },
    {
      "cell_type": "markdown",
      "source": [
        "##### 1. Why did you pick the specific chart?"
      ],
      "metadata": {
        "id": "ylSl6qgtp1ck"
      }
    },
    {
      "cell_type": "markdown",
      "source": [
        "\n",
        "Pie chart is used to show relative proportions of a set of values or percentage of whole chart. here we are using an column content rating and checking an distribution of apps on each each category of data."
      ],
      "metadata": {
        "id": "m2xqNkiQp1ck"
      }
    },
    {
      "cell_type": "markdown",
      "source": [
        "##### 2. What is/are the insight(s) found from the chart?"
      ],
      "metadata": {
        "id": "ZWILFDl5p1ck"
      }
    },
    {
      "cell_type": "markdown",
      "source": [
        " Insights from the Pie Chart: Distribution of Apps by Content Rating\n",
        "1. \"Everyone\" dominates the market\n",
        "\n",
        " Over 80% of apps are rated for Everyone, clearly showing that developers prefer to create apps that are accessible to all age groups to maximize reach and downloads.\n",
        "\n",
        "2. \"Teen\" is the second-largest category\n",
        "\n",
        " With 11.1%, it's the next preferred segment, suggesting moderate demand for apps tailored to teenagers.\n",
        "\n",
        "3. Low representation in other categories\n",
        "\n",
        " \"Mature 17+\" (4.6%) and \"Everyone 10+\" (3.8%) have limited presence, implying these age-specific niches are less focused by developers.\n",
        "\n",
        " \"Adults only 18+\" and \"Unrated\" are almost non-existent, likely due to low demand or store restrictions."
      ],
      "metadata": {
        "id": "x-lUsV2mp1ck"
      }
    },
    {
      "cell_type": "markdown",
      "source": [
        "##### 3. Will the gained insights help creating a positive business impact?\n",
        "Are there any insights that lead to negative growth? Justify with specific reason."
      ],
      "metadata": {
        "id": "M7G43BXep1ck"
      }
    },
    {
      "cell_type": "markdown",
      "source": [
        "the gained insights help create a positive business impact?\n",
        "\n",
        "\n",
        "1. The insight that 80% of apps are rated \"Everyone\" shows a strong market trend toward broad accessibility.\n",
        "\n",
        "2. Targeting the \"Everyone\" category allows businesses to reach the widest user base, including families, kids, and general users — leading to higher installs, engagement, and ad revenue.\n",
        "\n",
        "3. It also indicates where the highest competition and demand are, helping businesses align their product strategy.\n",
        "\n",
        "the gained insights help create a positive business impact?\n",
        "\n",
        "\n",
        "1. The insight that 80% of apps are rated \"Everyone\" shows a strong market trend toward broad accessibility.\n",
        "\n",
        "2. Targeting the \"Everyone\" category allows businesses to reach the widest user base, including families, kids, and general users — leading to higher installs, engagement, and ad revenue.\n",
        "\n",
        "3. It also indicates where the highest competition and demand are, helping businesses align their product strategy."
      ],
      "metadata": {
        "id": "5wwDJXsLp1cl"
      }
    },
    {
      "cell_type": "markdown",
      "source": [
        "#### Chart - 13"
      ],
      "metadata": {
        "id": "Ag9LCva-p1cl"
      }
    },
    {
      "cell_type": "code",
      "source": [
        "# Chart - 13 visualization code\n",
        "\n",
        "#palette controls the color scheme of the plot.'muted' is one of the predefined palettes in Seaborn, designed to be visually appealing and not too bright or harsh.\n",
        "#The plt.tight_layout() method in Matplotlib is used to automatically adjust the spacing between subplots in a figure to ensure that elements like axes labels, titles.\n",
        "plt.figure(figsize=(10,5))\n",
        "sns.violinplot(data=data,x='Content Rating', y='Rating',palette='muted',hue='Content Rating')\n",
        "plt.title('Distribution of App Ratings by Content Rating')\n",
        "plt.tight_layout()\n",
        "plt.show()"
      ],
      "metadata": {
        "id": "EUfxeq9-p1cl"
      },
      "execution_count": null,
      "outputs": []
    },
    {
      "cell_type": "markdown",
      "source": [
        "##### 1. Why did you pick the specific chart?"
      ],
      "metadata": {
        "id": "E6MkPsBcp1cl"
      }
    },
    {
      "cell_type": "markdown",
      "source": [
        "A violin plot is similar to a box and whisker plot in that it shows a visual representation of the distribution of the data. However, the violin plot opens much more data by displaying the data distribution. here we are using an content rating columns and based on ratings.and Distribution of App Ratings by Content Rating"
      ],
      "metadata": {
        "id": "V22bRsFWp1cl"
      }
    },
    {
      "cell_type": "markdown",
      "source": [
        "##### 2. What is/are the insight(s) found from the chart?"
      ],
      "metadata": {
        "id": "2cELzS2fp1cl"
      }
    },
    {
      "cell_type": "markdown",
      "source": [
        " Insights:\n",
        "1. Overall High Ratings Across All Categories:\n",
        "\n",
        "   Most content rating groups (e.g., Everyone, Teen, Mature 17+) have median ratings clustered around 4.3 to 4.5, indicating generally high-rated apps regardless of content rating.\n",
        "\n",
        "2. Wider Spread in 'Everyone' and 'Teen' Categories:\n",
        "\n",
        "  These categories show a broader distribution, meaning apps in these groups vary more in quality (some very low, some very high).\n",
        "\n",
        "  A few apps in these groups have very low ratings (as low as 1), indicating more variation in app quality.\n",
        "\n",
        "3. 'Adults only 18+' and 'Unrated' Have Narrower Distributions:\n",
        "\n",
        "  The 'Adults only 18+' category shows a very narrow distribution around 4.5, suggesting:\n",
        "\n",
        "  Fewer apps in this category.\n",
        "\n",
        "  More consistent ratings (less variability).\n",
        "\n",
        "  'Unrated' has a single line, likely due to very few data points — possibly only one or two apps.\n",
        "\n",
        "4. 'Everyone 10+' and 'Mature 17+' Categories Have Slightly Higher Consistency:\n",
        "\n",
        "  Their rating distributions are tighter than ‘Everyone’ and ‘Teen’, suggesting more consistency in app ratings."
      ],
      "metadata": {
        "id": "ozQPc2_Ip1cl"
      }
    },
    {
      "cell_type": "markdown",
      "source": [
        "##### 3. Will the gained insights help creating a positive business impact?\n",
        "Are there any insights that lead to negative growth? Justify with specific reason."
      ],
      "metadata": {
        "id": "3MPXvC8up1cl"
      }
    },
    {
      "cell_type": "markdown",
      "source": [
        " Positive Business Impact from Insights:\n",
        "\n",
        "Positive Impact Opportunities:\n",
        "1. Focus on Broad-Appeal Content (\"Everyone\", \"Teen\"):\n",
        "\n",
        "  These categories have high usage and broad reach.\n",
        "\n",
        "  Even with a wider spread in ratings, the high median rating (~4.4) indicates strong user satisfaction.\n",
        "\n",
        "  Business Strategy: Invest in quality control and UX testing for apps in these categories to improve low-performing apps and maximize reach.\n",
        "\n",
        "2. Leverage Niche Categories with High Consistency:\n",
        "\n",
        "  Categories like “Adults only 18+” and “Mature 17+” show tight, high-rating distributions.\n",
        "\n",
        "  Although they may represent fewer apps, they offer loyal and satisfied user bases.\n",
        "\n",
        "  Business Strategy: These niches can be targeted for premium content, subscriptions, or advertising, as engaged users are likely to spend more.\n",
        "\n",
        "3. Highlight Rating Consistency in Marketing:\n",
        "\n",
        "  Apps in “Everyone 10+” and “Mature 17+” show more rating stability, which can be marketed as trusted and reliable.\n",
        "\n",
        "  Business Strategy: Use this consistency to position these apps as top-rated and reliable to attract new users.\n",
        "\n",
        "\n",
        "Possible Negative Impact:\n",
        "\n",
        "1. Quality Issues in “Everyone” and “Teen” Categories:\n",
        "\n",
        "  The wider rating spread, including apps rated below 3, suggests inconsistency in app quality.\n",
        "\n",
        "  Risk: If too many low-rated apps accumulate in these categories, it can damage user trust and discourage downloads.\n",
        "\n",
        "  Business Strategy: Implement minimum quality standards, periodic app reviews, and better developer support.\n",
        "\n",
        "2. Low Visibility or Uncertainty in \"Unrated\" Apps:\n",
        "\n",
        "  The “Unrated” category likely has too few apps and lacks clarity in performance.\n",
        "\n",
        "  Risk: Users may perceive these as less trustworthy or incomplete, potentially harming reputation or adoption.\n",
        "\n",
        "  Business Strategy: Either discourage the use of ‘Unrated’ or ensure such apps are clearly explained and vetted."
      ],
      "metadata": {
        "id": "GL8l1tdLp1cl"
      }
    },
    {
      "cell_type": "markdown",
      "source": [
        "####Multivariate Analysis"
      ],
      "metadata": {
        "id": "a93x0L8V5wyZ"
      }
    },
    {
      "cell_type": "markdown",
      "source": [
        "#### Chart - 14 - Correlation Heatmap"
      ],
      "metadata": {
        "id": "NC_X3p0fY2L0"
      }
    },
    {
      "cell_type": "code",
      "source": [
        "# Correlation Heatmap visualization code\n",
        "\n",
        "corr_data=data.select_dtypes(include=['int64','float64'])\n",
        "corr_data\n"
      ],
      "metadata": {
        "id": "xyC9zolEZNRQ",
        "collapsed": true
      },
      "execution_count": null,
      "outputs": []
    },
    {
      "cell_type": "code",
      "source": [
        "corr_data.corr()"
      ],
      "metadata": {
        "collapsed": true,
        "id": "QlRZxEFQZaxS"
      },
      "execution_count": null,
      "outputs": []
    },
    {
      "cell_type": "code",
      "source": [
        "sns.heatmap(corr_data.corr(),annot=True)\n",
        "plt.show()"
      ],
      "metadata": {
        "id": "4M4qu2yvZk80"
      },
      "execution_count": null,
      "outputs": []
    },
    {
      "cell_type": "markdown",
      "source": [
        "##### 1. Why did you pick the specific chart?"
      ],
      "metadata": {
        "id": "UV0SzAkaZNRQ"
      }
    },
    {
      "cell_type": "markdown",
      "source": [
        "A heatmap uses color intensities to represent the strength of relationships (correlations) between variables in a dataset.here we are using price and rating columns To detect strong or weak relationships between variables."
      ],
      "metadata": {
        "id": "DVPuT8LYZNRQ"
      }
    },
    {
      "cell_type": "markdown",
      "source": [
        "##### 2. What is/are the insight(s) found from the chart?"
      ],
      "metadata": {
        "id": "YPEH6qLeZNRQ"
      }
    },
    {
      "cell_type": "markdown",
      "source": [
        "The chart is a correlation heatmap showing the relationship between Rating and Price.\n",
        "\n",
        "Insights:\n",
        "1. Very weak negative correlation between Rating and Price:\n",
        "\n",
        "  The correlation coefficient is -0.022, which is very close to 0.\n",
        "\n",
        "  This indicates almost no linear relationship between product ratings and prices.\n",
        "\n",
        "2. Interpretation:\n",
        "\n",
        "  A higher price does not necessarily mean a higher or lower rating.\n",
        "\n",
        "  Similarly, a product with a higher rating does not predict a higher or lower price.\n",
        "\n",
        "3. Colors:\n",
        "   Darker colors (close to 1 or -1) = Strong correlations.\n",
        "   Lighter colors (close to 0) = Weak or no correlations.\n",
        "\n",
        "Conclusion:\n",
        "\n",
        "Price and Rating are nearly independent of each other in this dataset.\n",
        "\n"
      ],
      "metadata": {
        "id": "bfSqtnDqZNRR"
      }
    },
    {
      "cell_type": "markdown",
      "source": [
        "#### Chart - 15 - Pair Plot"
      ],
      "metadata": {
        "id": "q29F0dvdveiT"
      }
    },
    {
      "cell_type": "code",
      "source": [
        "# Pair Plot visualization code\n",
        "sns.pairplot(corr_data)\n",
        "plt.show()"
      ],
      "metadata": {
        "id": "o58-TEIhveiU"
      },
      "execution_count": null,
      "outputs": []
    },
    {
      "cell_type": "markdown",
      "source": [
        "##### 1. Why did you pick the specific chart?"
      ],
      "metadata": {
        "id": "EXh0U9oCveiU"
      }
    },
    {
      "cell_type": "markdown",
      "source": [
        "A pair plot visualizes pairwise relationships between numerical variables.It includes scatter plots for relationships and histograms or density plots for individual distributions.here we are using an rating and price columns finding an distribution of an plot."
      ],
      "metadata": {
        "id": "eMmPjTByveiU"
      }
    },
    {
      "cell_type": "markdown",
      "source": [
        "##### 2. What is/are the insight(s) found from the chart?"
      ],
      "metadata": {
        "id": "22aHeOlLveiV"
      }
    },
    {
      "cell_type": "markdown",
      "source": [
        "This is a pair plot showing the distribution and relationship between Rating and Price.\n",
        "\n",
        "Insights:\n",
        "1. No Clear Relationship:\n",
        "\n",
        "   The scatter plot between Rating and Price (bottom-left and top-right panels) shows no obvious trend—data points are widely scattered.\n",
        "\n",
        "    This visually confirms the very weak correlation from the previous heatmap.\n",
        "\n",
        "2. Rating Distribution:\n",
        "\n",
        "  Ratings are tightly clustered between 3.5 and 5.\n",
        "\n",
        "  Most products have high ratings, indicating positive customer feedback overall.\n",
        "\n",
        "3. Price Distribution:\n",
        "\n",
        "  The price distribution is highly skewed.\n",
        "\n",
        "  Most products are priced below 50, but there are a few very expensive outliers (some over 400), which suggests a long right tail in the price data.\n",
        "\n",
        "4. Outliers:\n",
        "\n",
        "  There are clear outliers in both Rating and Price.\n",
        "\n",
        "  A few products with extremely high prices.\n",
        "\n",
        "  A couple of low-rated items.\n",
        "\n",
        "  These outliers may be influencing the lack of visible relationship."
      ],
      "metadata": {
        "id": "xlqE1y50yIn8"
      }
    },
    {
      "cell_type": "markdown",
      "source": [
        "Plotly"
      ],
      "metadata": {
        "id": "KydiqyCZeKGY"
      }
    },
    {
      "cell_type": "markdown",
      "source": [
        "#### Chart - 16"
      ],
      "metadata": {
        "id": "SKORCsb9W0CV"
      }
    },
    {
      "cell_type": "markdown",
      "source": [
        "Histogram\n",
        "\n",
        "A histogram shows the frequency distribution of a numeric variable by dividing the data into bins."
      ],
      "metadata": {
        "id": "8wjX8Z3weaE4"
      }
    },
    {
      "cell_type": "code",
      "source": [
        "# importing plotly libraries\n",
        "import plotly.express as px"
      ],
      "metadata": {
        "id": "2YVstZX1W4MD"
      },
      "execution_count": null,
      "outputs": []
    },
    {
      "cell_type": "code",
      "source": [
        "fig=px.histogram(data,x='Rating',title='Rating Distribution',color_discrete_sequence=['green'])\n",
        "fig.update_layout(height=600,width=800,title_font=dict(size=20,color='green'),\n",
        "                  font=dict(size=10,color='green'),bargap=0.019)\n",
        "fig.show()"
      ],
      "metadata": {
        "id": "bYkWOQC1elqo",
        "collapsed": true
      },
      "execution_count": null,
      "outputs": []
    },
    {
      "cell_type": "markdown",
      "source": [
        "##### 1. Why did you pick the specific chart?"
      ],
      "metadata": {
        "id": "y3lKpADCfCJ4"
      }
    },
    {
      "cell_type": "markdown",
      "source": [
        "here in this chart we are showing an distribution of an of an rating columns by dividing data into bins, and counting an each rating. so that we are using an histogram."
      ],
      "metadata": {
        "id": "uPQ8RGwHveiV"
      }
    },
    {
      "cell_type": "markdown",
      "source": [
        "##### 2. What is/are the insight(s) found from the chart?"
      ],
      "metadata": {
        "id": "N-GTszR-fUkK"
      }
    },
    {
      "cell_type": "markdown",
      "source": [
        "Insights from the Rating Distribution:\n",
        "\n",
        "This is a histogram showing the frequency distribution of app ratings :\n",
        "\n",
        "\n",
        "\n",
        "Key Insights:\n",
        "\n",
        "1. Most Ratings Are Between 3.5 and 5:\n",
        "\n",
        "  The majority of apps are rated in the 4.0 to 4.8 range.\n",
        "\n",
        "  This suggests a generally positive sentiment among users for most apps.\n",
        "\n",
        "2. Peak Around 4.4 – 4.6:\n",
        "\n",
        "  The highest bar (mode) appears in this range, indicating that this is the most common rating for apps.\n",
        "\n",
        "  Apps that achieve this rating are likely considered trustworthy or well-received.\n",
        "\n",
        "3. Long Left Tail (Skewed Distribution):\n",
        "\n",
        "  Ratings below 3.5 exist but are much less frequent, showing a left-skewed (negatively skewed) distribution.\n",
        "\n",
        "  Very few apps have ratings below 2.\n",
        "\n",
        "4. Anomaly: Ratings > 5 Exist (Invalid Data Points):\n",
        "\n",
        "  There are visible bars beyond 5.0 (e.g., 6, 10, 15), which are not valid rating values, since app ratings should cap at 5.\n",
        "\n",
        "  This suggests the presence of data quality issues, likely due to incorrect entries or outliers that need cleaning."
      ],
      "metadata": {
        "id": "Wl3zPF0Afel3"
      }
    },
    {
      "cell_type": "markdown",
      "source": [],
      "metadata": {
        "id": "oRZRZju2iMwQ"
      }
    },
    {
      "cell_type": "markdown",
      "source": [
        "#### Chart - 17"
      ],
      "metadata": {
        "id": "xAMlDubJiT22"
      }
    },
    {
      "cell_type": "markdown",
      "source": [
        " Count plot\n",
        "\n",
        "A bar chart represents categorical data using rectangular bars where the length corresponds to the frequency or value"
      ],
      "metadata": {
        "id": "0o-fD4AoOfJJ"
      }
    },
    {
      "cell_type": "code",
      "source": [
        "data"
      ],
      "metadata": {
        "id": "x4ME_uYGqGAX"
      },
      "execution_count": null,
      "outputs": []
    },
    {
      "cell_type": "code",
      "source": [
        "df=data.loc[:,'Category'].value_counts().reset_index()\n",
        "df"
      ],
      "metadata": {
        "collapsed": true,
        "id": "UPcoFPulOrzm"
      },
      "execution_count": null,
      "outputs": []
    },
    {
      "cell_type": "code",
      "source": [
        "data"
      ],
      "metadata": {
        "id": "6jA9C4wd77SJ"
      },
      "execution_count": null,
      "outputs": []
    },
    {
      "cell_type": "code",
      "source": [
        "fig=px.bar(df,x='Category',y='count',title='count of Diffrent apps category',color='Category')\n",
        "fig.update_layout(height=600,width=1500,title_font=dict(size=20,color='green'),\n",
        "                  font=dict(size=10,color='green'),bargap=0.019)\n",
        "fig.show()"
      ],
      "metadata": {
        "collapsed": true,
        "id": "uwTvurYKO5WW"
      },
      "execution_count": null,
      "outputs": []
    },
    {
      "cell_type": "markdown",
      "source": [
        "##### 1. Why did you pick the specific chart?"
      ],
      "metadata": {
        "id": "Y_LsjrViPdRq"
      }
    },
    {
      "cell_type": "markdown",
      "source": [
        "here in this chart we are using an count plot to Compare frequencies of different categories and also Analyze trends across categorical data.\n"
      ],
      "metadata": {
        "id": "DFTFOZlFPgcl"
      }
    },
    {
      "cell_type": "markdown",
      "source": [
        " ##### 2. What is/are the insight(s) found from the chart?"
      ],
      "metadata": {
        "id": "tQqDRQbcP8or"
      }
    },
    {
      "cell_type": "markdown",
      "source": [
        "The bar chart titled \"count of Different apps category\" provides a visual representation of the number of apps across various categories.\n",
        "\n",
        "Insights:\n",
        "1. Top Categories:\n",
        "\n",
        "  FAMILY is the most dominant app category with the highest count, close to 2000 apps.\n",
        "\n",
        "  GAME is the second most common category, followed by TOOLS.\n",
        "\n",
        "  These three categories significantly outnumber the rest, indicating a heavy concentration of apps in family-oriented, gaming, and utility-based functions.\n",
        "\n",
        "2. Moderately Represented Categories:\n",
        "\n",
        "  Categories like MEDICAL, BUSINESS, PRODUCTIVITY, PERSONALIZATION, and COMMUNICATION have moderate app counts (in the range of ~300–500).\n",
        "\n",
        "3. Least Represented Categories:\n",
        "\n",
        "   Categories such as BEAUTY, COMICS, PARENTING, and EVENTS have the lowest app counts (well below 100), suggesting these niches are less saturated.\n",
        "\n",
        "4. Potential Opportunities:\n",
        "\n",
        "  Categories with fewer apps might represent opportunities for developers to enter less competitive markets (e.g., BEAUTY, PARENTING).\n",
        "\n",
        "5. Skewed Distribution:\n",
        "\n",
        "   The distribution is heavily skewed toward the right skew top few categories, meaning a small number of categories dominate the app store in terms of volume."
      ],
      "metadata": {
        "id": "FsrMpTfhP-Oz"
      }
    },
    {
      "cell_type": "markdown",
      "source": [
        "#### Chart - 18"
      ],
      "metadata": {
        "id": "Rg6-iOIeidk-"
      }
    },
    {
      "cell_type": "markdown",
      "source": [
        "A box plot shows the distribution of a dataset, highlighting medians, quartiles, and potential outliers."
      ],
      "metadata": {
        "id": "B42jtBuFig-w"
      }
    },
    {
      "cell_type": "code",
      "source": [
        "fig=px.box(data,x='Category',y='Rating',title='Category wise Rating',color='Category')\n",
        "fig.update_layout(height=600,width=1400,title_font=dict(size=20,color='green'),\n",
        "                  font=dict(size=10,color='green'),bargap=0.019)\n",
        "fig.show()"
      ],
      "metadata": {
        "id": "93sjymAEU2mv",
        "collapsed": true
      },
      "execution_count": null,
      "outputs": []
    },
    {
      "cell_type": "markdown",
      "source": [
        "##### 1. Why did you pick the specific chart?"
      ],
      "metadata": {
        "id": "2Qr3Cs9YXl2I"
      }
    },
    {
      "cell_type": "markdown",
      "source": [
        "in this chart we are Summarize the distribution of numerical data. in this chart we are Detecting any outliers in category columns in the data."
      ],
      "metadata": {
        "id": "MP7b86rsXn-o"
      }
    },
    {
      "cell_type": "markdown",
      "source": [
        " ##### 2. What is/are the insight(s) found from the chart?"
      ],
      "metadata": {
        "id": "XYXn9Oj0XuFI"
      }
    },
    {
      "cell_type": "markdown",
      "source": [
        "Insights:\n",
        "\n",
        "1.Most Categories Cluster Around Ratings of 4.0 to 4.5:\n",
        "\n",
        "  The median rating for most categories lies between 4.0 and 4.5, indicating generally favorable user feedback across app categories.\n",
        "\n",
        "2. High-Rated Categories:\n",
        "\n",
        "  Categories like BOOKS_AND_REFERENCE, EDUCATION, and ART_AND_DESIGN show consistently high median ratings with smaller interquartile ranges (IQRs), suggesting stable user satisfaction.\n",
        "\n",
        "  These categories have fewer low-rating outliers, implying overall good quality.\n",
        "\n",
        "3. Categories with Wide Rating Spread:\n",
        "\n",
        "  GAME, FAMILY, TOOLS, and COMMUNICATION have larger IQRs and more outliers, showing a wider variation in app quality within those categories.\n",
        "\n",
        "  These may contain both very high-quality and very poorly rated apps, leading to inconsistent user experiences.\n",
        "\n",
        "4. Low-Rated Outlier Categories:\n",
        "\n",
        "   Categories like DATING, FINANCE, and HEALTH_AND_FITNESS have more apps rated below 3, suggesting possible user dissatisfaction or inconsistent performance in these categories.\n",
        "\n",
        "5. Outliers Across All Categories:\n",
        "\n",
        "   Most categories include some low outliers (ratings below 2), which could indicate issues with specific apps such as bugs, poor UI/UX, or unmet expectations."
      ],
      "metadata": {
        "id": "BsvFsKjkXvVo"
      }
    },
    {
      "cell_type": "markdown",
      "source": [
        "#### Chart - 19"
      ],
      "metadata": {
        "id": "cGY1hbl0iiU_"
      }
    },
    {
      "cell_type": "markdown",
      "source": [
        "A pie chart represents proportions of categorical data as slices of a circle."
      ],
      "metadata": {
        "id": "yfdzsWh_inve"
      }
    },
    {
      "cell_type": "code",
      "source": [
        "# importing plotly libraries\n",
        "import plotly.express as px"
      ],
      "metadata": {
        "id": "aFYiaVlyhoK9"
      },
      "execution_count": null,
      "outputs": []
    },
    {
      "cell_type": "code",
      "source": [
        "px.pie(data,names='Category',labels={'category': 'Category'},hole=0.2)\n"
      ],
      "metadata": {
        "id": "3oXzU28WaLia",
        "collapsed": true
      },
      "execution_count": null,
      "outputs": []
    },
    {
      "cell_type": "markdown",
      "source": [
        "##### 1. Why did you pick the specific chart?"
      ],
      "metadata": {
        "id": "tDRbrOQJZSHD"
      }
    },
    {
      "cell_type": "markdown",
      "source": [
        "Show proportions in category or market shares."
      ],
      "metadata": {
        "id": "MU8n9T5BZVxP"
      }
    },
    {
      "cell_type": "markdown",
      "source": [
        " ##### 2. What is/are the insight(s) found from the chart?"
      ],
      "metadata": {
        "id": "C6iI1E6uZXK3"
      }
    },
    {
      "cell_type": "markdown",
      "source": [
        " Insights:\n",
        "Top 3 Dominant Segments:\n",
        "\n",
        "1. The largest segment accounts for 18.2% is FAMILY, indicating it is significantly more important or frequent than the others.\n",
        "\n",
        " The next two largest segments are 10.6% that is GAME and 7.78% is TOOLS, also representing a substantial share.\n",
        "\n",
        "2. Highly Skewed Distribution:\n",
        "\n",
        " A few segments dominate the chart (i.e. top 3 = 36.58% of the total).\n",
        "\n",
        " Many segments have very small percentages (e.g., some below 1%, and even one as low as 0.00922%), indicating a long tail distribution.\n",
        "\n",
        "3. Diversity of Categories:\n",
        "\n",
        " The chart includes a large number of categories, suggesting the data is highly granular or categorically detailed.\n",
        "\n",
        "4. The smallest Categories is less than 1%. is it is less significant than other apps."
      ],
      "metadata": {
        "id": "pnVvhLXxZmuT"
      }
    },
    {
      "cell_type": "markdown",
      "source": [
        "#### Chart - 20"
      ],
      "metadata": {
        "id": "MaLABgAIiwMT"
      }
    },
    {
      "cell_type": "markdown",
      "source": [],
      "metadata": {
        "id": "VjNPZlcpi49N"
      }
    },
    {
      "cell_type": "code",
      "source": [
        "# we are importing an libraries of subplots.\n",
        "import plotly.graph_objects as go\n",
        "from plotly.subplots import make_subplots"
      ],
      "metadata": {
        "id": "LjQVRtS9aXTv"
      },
      "execution_count": null,
      "outputs": []
    },
    {
      "cell_type": "code",
      "source": [
        "fig = make_subplots(rows=2, cols=2,\n",
        "                    subplot_titles=(\"Histogram\",\"Histogram\",\"Histogram\",\"Histogram\"))\n",
        "fig.add_trace(go.Histogram(x=data['Android Ver']),row=1 ,col=1)\n",
        "fig.add_trace(go.Histogram(x=data['Android Ver']),row=1 ,col=2)\n",
        "fig.add_trace(go.Histogram(x=data['Android Ver']),row=2 ,col=1)\n",
        "fig.add_trace(go.Histogram(x=data['Android Ver']),row=2 ,col=2)\n",
        "\n",
        "\n",
        "fig.update_layout(\n",
        "    height=800,  # Set the height of the entire figure\n",
        "    width=1700)"
      ],
      "metadata": {
        "collapsed": true,
        "id": "NaIdQFaOaXIG"
      },
      "execution_count": null,
      "outputs": []
    },
    {
      "cell_type": "markdown",
      "source": [
        "##### 1. Why did you pick the specific chart?"
      ],
      "metadata": {
        "id": "DrPwrj7TZy2H"
      }
    },
    {
      "cell_type": "markdown",
      "source": [
        "show distributions of Android OS versions"
      ],
      "metadata": {
        "id": "IpWAsyyVZ0Zp"
      }
    },
    {
      "cell_type": "markdown",
      "source": [
        " ##### 2. What is/are the insight(s) found from the chart?"
      ],
      "metadata": {
        "id": "zO9m6R1BZ1lH"
      }
    },
    {
      "cell_type": "markdown",
      "source": [
        "The provided subplots (4 histograms) appear to show distributions of Android OS versions or API levels across different datasets or categories (possibly by device type, usage patterns, or time). All four histograms have a very similar shape, suggesting the same underlying trend across each subplot.\n",
        "\n",
        " Insights from the Histograms:\n",
        "1. Dominance of Specific Versions:\n",
        "\n",
        " The most frequent entries are versions like 4.0.3 and up, 4.1 and up, and 4.2 and up.\n",
        "\n",
        " The highest bar appears around \"4.1 and up\", indicating that this version (or API level) is the most commonly seen across all categories.\n",
        "\n",
        "2. Heavy Concentration in Older Versions:\n",
        "\n",
        "  Most data is concentrated on older Android versions (4.x and below).\n",
        "\n",
        "  There's a steep drop-off after version 5.0 and above, indicating that newer versions are less represented.\n",
        "\n",
        "3. Long Tail of Rare Versions:\n",
        "\n",
        "  A large number of versions exist with very low frequencies, shown as a long tail to the right.\n",
        "\n",
        " These likely represent niche devices or less commonly used OS builds.\n",
        "\n",
        "4. Consistent Pattern Across All Subplots:\n",
        "\n",
        "  All four histograms exhibit almost identical distribution, suggesting that no matter how the data is segmented (e.g., by region, device type, app usage), the underlying OS version trend remains the same."
      ],
      "metadata": {
        "id": "E0aOSeQJZ6Z5"
      }
    },
    {
      "cell_type": "markdown",
      "source": [
        "## **5. Solution to Business Objective**"
      ],
      "metadata": {
        "id": "JcMwzZxoAimU"
      }
    },
    {
      "cell_type": "markdown",
      "source": [
        "#### What do you suggest the client to achieve Business Objective ?\n",
        "Explain Briefly."
      ],
      "metadata": {
        "id": "8G2x9gOozGDZ"
      }
    },
    {
      "cell_type": "markdown",
      "source": [
        "Consider verifying whether only top-rated apps were included or if reviews were manipulated (e.g., fake or incentivized reviews).\n",
        "\n",
        "Many categories like ART_AND_DESIGN, BOOKS_AND_REFERENCE, BUSINESS, COMICS, DATING, FINANCE, and GAMES These categories tend to provide more focused and content-rich experiences, leading to higher user satisfaction.\n",
        "\n",
        "Clean outliers to ensure reliable insights.\n",
        "\n",
        "Some low ratings (1.0–2.0) are also present, showing a segment of unhappy customers.\n",
        "\n",
        "Analyze low ratings to identify and resolve issues causing dissatisfaction.\n",
        "\n",
        "Focus on promoting and investing in those high-rated segments\n",
        "\n",
        "Regular updates improve user trust, engagement, and visibility on app stores\n",
        "\n",
        "Businesses can use this to plan frequent updates for better growth and retention\n",
        "\n",
        "This can guide pricing strategies, such as competitive positioning or deciding whether to offer both free and paid versions.\n",
        "\n",
        "Businesses can focus more on developing apps for general and teen users to maximize reach and satisfaction.\n",
        "\n",
        "This suggests the presence of data quality issues, likely due to incorrect entries or outliers that need cleaning.\n",
        "\n"
      ],
      "metadata": {
        "id": "pASKb0qOza21"
      }
    },
    {
      "cell_type": "markdown",
      "source": [
        "# **Conclusion**"
      ],
      "metadata": {
        "id": "gCX9965dhzqZ"
      }
    },
    {
      "cell_type": "markdown",
      "source": [
        "The dataset contains comprehensive data about mobile applications, likely sourced from an app marketplace such as the Google Play Store. Each column represents a key attribute that provides insights into the app's performance, user perception, business model, and technical specifications.\n",
        "\n",
        "1. App names, categories, and genres help in classifying and organizing the apps by type and functionality.\n",
        "\n",
        "2. Rating, reviews, and installs provide valuable indicators of user satisfaction, popularity, and engagement.\n",
        "\n",
        "3. Size and Android version requirements give insight into the technical complexity and device compatibility of the apps.\n",
        "\n",
        "4. Price and type (Free or Paid) allow analysis of monetization strategies and user preferences.\n",
        "\n",
        "5. Content rating ensures that apps meet age-appropriate standards, aiding in regulatory compliance and user trust.\n",
        "\n",
        "6. Last updated, current version, and Android version show how actively an app is maintained, which often influences user trust and platform compatibility.\n",
        "\n",
        "Overall, this dataset can be used to explore trends in app development, understand user preferences, evaluate business models, and make data-driven decisions for app store optimization (ASO), marketing, or development strategy.\n",
        "\n"
      ],
      "metadata": {
        "id": "Fjb1IsQkh3yE"
      }
    },
    {
      "cell_type": "markdown",
      "source": [
        "### ***Hurrah! You have successfully completed your EDA Capstone Project !!!***"
      ],
      "metadata": {
        "id": "gIfDvo9L0UH2"
      }
    }
  ]
}